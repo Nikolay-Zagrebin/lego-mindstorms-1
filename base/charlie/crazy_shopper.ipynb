{
 "cells": [
  {
   "cell_type": "markdown",
   "metadata": {},
   "source": [
    "\n",
    "<p align=\"center\">\n",
    " <img width=\"100%\" src=\"../../multimedia/mindstorms_51515_logo.png\">\n",
    "</p>\n",
    "\n",
    "# `crazy_shopper`\n",
    "Python equivalent of the `Crazy shopper` program. Let's help Charly deliver his shopping!\n",
    "\n",
    "# Required robot\n",
    "* Charlie (with shopping cart)\n",
    "\n",
    "<img src=\"./multimedia/charlie_shopper.jpg\" width=\"50%\" align=\"center\">\n",
    "\n",
    "# Source code\n",
    "You can find the code in the accompanying [`.py` file](https://github.com/arturomoncadatorres/lego-mindstorms/blob/main/base/charlie/crazy_shopper.py). To get it running, simply copy and paste it in a new Mindstorms project.\n",
    "\n",
    "# Imports"
   ]
  },
  {
   "cell_type": "code",
   "execution_count": null,
   "metadata": {},
   "outputs": [],
   "source": [
    "from mindstorms import MSHub, Motor, MotorPair, ColorSensor, DistanceSensor, App\n",
    "from mindstorms.control import wait_for_seconds, wait_until, Timer\n",
    "from mindstorms.operator import greater_than, greater_than_or_equal_to, less_than, less_than_or_equal_to, equal_to, not_equal_to\n",
    "import math"
   ]
  },
  {
   "cell_type": "markdown",
   "metadata": {},
   "source": [
    "# Initialization"
   ]
  },
  {
   "cell_type": "code",
   "execution_count": null,
   "metadata": {},
   "outputs": [],
   "source": [
    "print(\"-\"*15 + \" Execution started \" + \"-\"*15 + \"\\n\")"
   ]
  },
  {
   "cell_type": "code",
   "execution_count": null,
   "metadata": {},
   "outputs": [],
   "source": [
    "hub = MSHub()\n",
    "app = App()"
   ]
  },
  {
   "cell_type": "markdown",
   "metadata": {},
   "source": [
    "# Turn off center button \n",
    "By setting its color to black"
   ]
  },
  {
   "cell_type": "code",
   "execution_count": null,
   "metadata": {},
   "outputs": [],
   "source": [
    "print(\"Turning center button off...\")\n",
    "hub.status_light.on('black')\n",
    "print(\"DONE!\")"
   ]
  },
  {
   "cell_type": "markdown",
   "metadata": {},
   "source": [
    "# Configure motors"
   ]
  },
  {
   "cell_type": "code",
   "execution_count": null,
   "metadata": {},
   "outputs": [],
   "source": [
    "print(\"Configuring motors...\")\n",
    "motors_wheels = MotorPair('A', 'E')\n",
    "motors_wheels.set_default_speed(70)\n",
    "\n",
    "motor_left_arm = Motor('B') # Left arm\n",
    "motor_right_arm = Motor('F') # Right arm\n",
    "\n",
    "motor_left_arm.set_default_speed(40)\n",
    "motor_right_arm.set_default_speed(-40)\n",
    "\n",
    "motors_arms = MotorPair('B', 'F')\n",
    "print(\"DONE!\")"
   ]
  },
  {
   "cell_type": "markdown",
   "metadata": {},
   "source": [
    "# Set arm motors to starting position\n",
    "This isn't part of the original program, but I think it is good practice to make sure motors always start in the same state.\n"
   ]
  },
  {
   "cell_type": "code",
   "execution_count": null,
   "metadata": {},
   "outputs": [],
   "source": [
    "print(\"Setting arm motors to position 0...\")\n",
    "motor_left_arm.run_to_position(0)\n",
    "motor_right_arm.run_to_position(0)\n",
    "print(\"DONE!\")"
   ]
  },
  {
   "cell_type": "markdown",
   "metadata": {},
   "source": [
    "# Move shopper Charlie\n",
    "\n",
    "So far, we've used `move` to move the wheel motors. \n",
    "However, when using `move`, the program will not continue until the specified value is reached. \n",
    "This is a problem, since we want to move the wheels *and* the arms at the same time.\n",
    "Therefore, we will use `start` and `stop`. This comes at the cost of being unable to\n",
    "define a stopping condition based on the motors alone (e.g., distance, time). \n",
    "We have to stop them at certain point of the program (as we do here) or based on a \n",
    "sensory input. \n",
    "\n",
    "I wonder if there's a way to perform async execution using the vanilla (Micro)Python.\n",
    "I'll look into that in the future."
   ]
  },
  {
   "cell_type": "code",
   "execution_count": null,
   "metadata": {},
   "outputs": [],
   "source": [
    "print(\"Moving shopper Charlie...\")\n",
    "motors_wheels.start()\n",
    "wait_for_seconds(1) # This delays moving the arms, but doesn't affect the already moving wheel motors.\n",
    "\n",
    "for ii in range(0, 5):\n",
    "    motors_arms.move(0.3, unit='seconds', speed=40)\n",
    "    motors_arms.move(0.2, unit='seconds', speed=-40)\n",
    "\n",
    "motors_wheels.stop()\n",
    "print(\"DONE!\")"
   ]
  },
  {
   "cell_type": "code",
   "execution_count": null,
   "metadata": {},
   "outputs": [],
   "source": [
    "print(\"-\"*15 + \" Execution ended \" + \"-\"*15 + \"\\n\")\n",
    "\"\"\""
   ]
  }
 ],
 "metadata": {
  "jupytext": {
   "formats": "ipynb,py:percent"
  },
  "kernelspec": {
   "display_name": "Python 3",
   "language": "python",
   "name": "python3"
  },
  "language_info": {
   "codemirror_mode": {
    "name": "ipython",
    "version": 3
   },
   "file_extension": ".py",
   "mimetype": "text/x-python",
   "name": "python",
   "nbconvert_exporter": "python",
   "pygments_lexer": "ipython3",
   "version": "3.8.5"
  }
 },
 "nbformat": 4,
 "nbformat_minor": 4
}
