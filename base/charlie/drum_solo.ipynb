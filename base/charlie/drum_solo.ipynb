{
 "cells": [
  {
   "cell_type": "markdown",
   "metadata": {},
   "source": [
    "\n",
    "<p align=\"center\">\n",
    " <img width=\"100%\" src=\"../../multimedia/mindstorms_51515_logo.png\">\n",
    "</p>\n",
    "\n",
    "# `drum_solo`\n",
    "Python equivalent of the `Drum solo` program. Enjoy Charlie's performance.\n",
    "\n",
    "This program was particularly challenging, since replicating the block `Charlie plays drums`\n",
    "required async execution. Usually, you can do so in Python using threads. \n",
    "However, they have a [couple of drawbacks](https://effectivepython.com/2015/03/10/consider-coroutines-to-run-many-functions-concurrently):\n",
    "\n",
    "* They can be hard to coordinate\n",
    "* They require a lot of memory (~8 MB each)\n",
    "* They have huge overhead (in other words, they can be slow)\n",
    "* Most importantly for us: MicroPython doesn't support it.\n",
    "\n",
    "Thus, we need to look for other workarounds. Namely, we will be using coroutines. \n",
    "The solution in this script is built using [this code piece written by David Lechner](https://gist.github.com/dlech/fa48f9b2a3a661c79c2c5880684b63ae).\n",
    "Full credit goes to him. The use of coroutines in this program is explained later on (inside the function `play_drums`).\n",
    "\n",
    "# Required robot\n",
    "* Charlie (with basic drum set)\n",
    "\n",
    "<img src=\"./multimedia/charlie_drummer.png\" width=\"50%\" align=\"center\">\n",
    "\n",
    "# Source code\n",
    "You can find the code in the accompanying [`.py` file](https://github.com/arturomoncadatorres/lego-mindstorms/blob/main/base/charlie/charlie_drummer.py). To get it running, simply copy and paste it in a new Mindstorms project.\n",
    "\n",
    "# Imports"
   ]
  },
  {
   "cell_type": "code",
   "execution_count": null,
   "metadata": {},
   "outputs": [],
   "source": [
    "from mindstorms import MSHub, Motor, MotorPair, ColorSensor, DistanceSensor, App\n",
    "from mindstorms.control import wait_for_seconds, wait_until, Timer\n",
    "from mindstorms.operator import greater_than, greater_than_or_equal_to, less_than, less_than_or_equal_to, equal_to, not_equal_to\n",
    "import math"
   ]
  },
  {
   "cell_type": "code",
   "execution_count": null,
   "metadata": {},
   "outputs": [],
   "source": [
    "# Required for our own timer implementation.\n",
    "from utime import sleep as wait_for_seconds\n",
    "from utime import ticks_diff, ticks_ms"
   ]
  },
  {
   "cell_type": "markdown",
   "metadata": {},
   "source": [
    "# Initialization"
   ]
  },
  {
   "cell_type": "code",
   "execution_count": null,
   "metadata": {},
   "outputs": [],
   "source": [
    "print(\"-\"*15 + \" Execution started \" + \"-\"*15 + \"\\n\")"
   ]
  },
  {
   "cell_type": "code",
   "execution_count": null,
   "metadata": {},
   "outputs": [],
   "source": [
    "hub = MSHub()\n",
    "app = App()"
   ]
  },
  {
   "cell_type": "code",
   "execution_count": null,
   "metadata": {
    "lines_to_next_cell": 2
   },
   "outputs": [],
   "source": [
    "hub.status_light.on('black')"
   ]
  },
  {
   "cell_type": "markdown",
   "metadata": {},
   "source": [
    "# Configure motors"
   ]
  },
  {
   "cell_type": "code",
   "execution_count": null,
   "metadata": {},
   "outputs": [],
   "source": [
    "print(\"Configuring motors...\")\n",
    "motor_left_arm = Motor('B') # Left arm\n",
    "motor_right_arm = Motor('F') # Right arm\n",
    "motors_arms = MotorPair('B', 'F')\n",
    "print(\"DONE!\")"
   ]
  },
  {
   "cell_type": "markdown",
   "metadata": {},
   "source": [
    "# Set arm motors to starting position"
   ]
  },
  {
   "cell_type": "code",
   "execution_count": null,
   "metadata": {},
   "outputs": [],
   "source": [
    "print(\"Setting arm motors to position 0...\")\n",
    "motor_left_arm.run_to_position(0)\n",
    "motor_right_arm.run_to_position(0)\n",
    "print(\"DONE!\")"
   ]
  },
  {
   "cell_type": "markdown",
   "metadata": {},
   "source": [
    "# Overwrite `Timer`\n",
    "Unfortunately, `mindstorms.control.Timer` doesn't support floats.\n",
    "Thus, we need to define our own timer (using the functionality of `utime`)."
   ]
  },
  {
   "cell_type": "code",
   "execution_count": null,
   "metadata": {},
   "outputs": [],
   "source": [
    "print(\"Overwriting timer...\")\n",
    "\n",
    "class Timer():\n",
    "    \"\"\"\n",
    "    Replacement Timer class that allows using floats (i.e., seconds with a decimal place). \n",
    "    \"\"\"\n",
    "\n",
    "    def __init__(self):\n",
    "        \"\"\"\n",
    "        Initialization\n",
    "        \"\"\"\n",
    "        self.start_ticks = 0\n",
    "\n",
    "    def now(self):\n",
    "        \"\"\"\n",
    "        Returns the time (in seconds) since the timer was last reset.\n",
    "        \"\"\"\n",
    "        return ticks_diff(ticks_ms(), self.start_ticks) / 1000\n",
    "\n",
    "    def reset(self):\n",
    "        \"\"\"\n",
    "        Resets the timer\n",
    "        \"\"\"\n",
    "        self.start_ticks = ticks_ms()\n",
    "\n",
    "print(\"DONE!\")"
   ]
  },
  {
   "cell_type": "markdown",
   "metadata": {},
   "source": [
    "# Make Charlie drum away\n",
    "\n",
    "First, we need to define a function for playing the drums\n",
    "(equivalent to the block `Charlie plays drums`).\n",
    "\n",
    "Notice how we can define the default values of a function\n",
    "(in this case, `bars=4` and `tempo=100`). Moreover, \n",
    "it is great practice that every time that we define a function,\n",
    "we describe how it works (namely, what parameters it expects \n",
    "and what it returns)."
   ]
  },
  {
   "cell_type": "code",
   "execution_count": null,
   "metadata": {
    "lines_to_next_cell": 2
   },
   "outputs": [],
   "source": [
    "timer_drums = Timer()\n",
    "background_timer_left = Timer()\n",
    "background_timer_right = Timer()\n",
    "\n",
    "def play_drums(bars=4, tempo=100):\n",
    "\n",
    "    \"\"\"\n",
    "    Makes Charlie play the drums.\n",
    "    I had to read a bit into music to get the concept of bars and tempo.\n",
    "    More importantly, it uses coroutines to simulate async execution\n",
    "    of the arm motors. Both of them are a first time for me.\n",
    "    My apologies if my explantion of any of them isn't completely accurate.\n",
    "    \n",
    "    Parameters\n",
    "    ----------\n",
    "    bars:\n",
    "        Number of bars (in our case, simple number of cycles).\n",
    "        Default value is 4.\n",
    "    tempo:\n",
    "        Playing tempo (in bpm).\n",
    "        Default value is 100\n",
    "            \n",
    "    Returns\n",
    "    -------\n",
    "    None\n",
    "    \"\"\"\n",
    "    \n",
    "    # First, we will calculate how much should each beat last.\n",
    "    # We will convert the tempo [beats per minute] to period [s].\n",
    "    t_beat = 60 * (1/tempo)\n",
    "    print(\"t_beat = \" + str(t_beat))\n",
    "\n",
    "    # Now, we will calculate how much each bar should last.\n",
    "    # We will assume a 4/4 tune.\n",
    "    t_bar = t_beat * 4\n",
    "    print(\"t_bar = \" + str(t_bar))\n",
    "\n",
    "    # Lastly, we will calculate how much the whole drumming should last.\n",
    "    t_drumming = t_bar * bars\n",
    "    print(\"t_drumming = \" + str(t_drumming))\n",
    "\n",
    "    # Now, this is where things get interesting. Bear with me.\n",
    "    # First, we need to define the coroutines.\n",
    "    # We need to define two: one for each arm (pretty much identical).\n",
    "    # Notice how the definition is very similar to that of a function.\n",
    "    # Coroutines also have input parameters.\n",
    "    # However, there is no \"output\" (i.e., return), but actually a yield.\n",
    "    def background_left_arm(t):\n",
    "        \"\"\"\n",
    "        Parameters\n",
    "        ----------\n",
    "        t:\n",
    "            Time (in seconds) for which the left arm will execute this action.\n",
    "        \"\"\"\n",
    "        background_timer_left.reset() # Make sure timer is on 0.\n",
    "\n",
    "        # Here, we check if the execution time of this arm has exceeded\n",
    "        # the desired duration (given by t).\n",
    "        while background_timer_left.now() < t:\n",
    "            \n",
    "            # If it hasn't, we reach this yield.\n",
    "            # yield lets the rest of the program run until we come back\n",
    "            # here again later to check if the condition was met.\n",
    "            yield\n",
    "\n",
    "    def background_right_arm(t):\n",
    "        \"\"\"\n",
    "        Parameters\n",
    "        ----------\n",
    "        t:\n",
    "            Time (in seconds) for which the right arm will execute this action.\n",
    "        \"\"\"\n",
    "        background_timer_right.reset()\n",
    "        while background_timer_right.now() < t:\n",
    "            yield\n",
    "\n",
    "    def drum_left_hand():\n",
    "        while True:\n",
    "\n",
    "            # This is how we receive a parameter.\n",
    "            # In this case, it corresponds to the time the action should last.\n",
    "            t_action = yield\n",
    "\n",
    "            # We make sure we only execute code if the received\n",
    "            # value was transmitted correctly.\n",
    "            if not t_action == None:\n",
    "                # We will start to move the arm downwards...\n",
    "                motor_left_arm.start_at_power(50)\n",
    "                \n",
    "                # ...and check if its duration exceeded the maximum allowed.\n",
    "                # Notice that we need to divide t_action by 2, since the action\n",
    "                # is composed of moving the arm downwards (first half)...\n",
    "                yield from background_left_arm(t_action/2)\n",
    "\n",
    "                # ...and upwards (second half, same process).\n",
    "                motor_left_arm.start_at_power(-50)\n",
    "                yield from background_left_arm(t_action/2)\n",
    "\n",
    "                # We assume that the movement is immediate and takes no time.\n",
    "                # This isn't completely true, but for now it works.\n",
    "\n",
    "\n",
    "    def drum_right_hand():\n",
    "\n",
    "        while True:\n",
    "            t_action = yield\n",
    "\n",
    "            if not t_action == None:\n",
    "                # It is worth mentioning a few things regarding the right arm's movement.\n",
    "                # - First, that we multiply t_action by 4 (since we are in a 4/4 tune).\n",
    "                # This is because we want the right arm to take the time of 4 beats.\n",
    "                # - Then, notice that the right arm also uses a lower power. Otherwise\n",
    "                # its trajectory is much longer. Originally, I wanted to try with 12.5 (rounded to 13)\n",
    "                # (a reduction by a factor of 4). Unfortunately, that wasn't enough to move\n",
    "                # the arm at all. Thus, I settled for a factor of 2.\n",
    "                motor_right_arm.start_at_power(-25)    \n",
    "                yield from background_right_arm((t_action/2)*4)\n",
    "                motor_right_arm.start_at_power(25)\n",
    "                yield from background_right_arm((t_action/2)*4)\n",
    "\n",
    "    # Since the drum_left_hand() and drum_right_hand() are coroutines and use yield\n",
    "    # (i.e., they are not functions and thus have no return), they will NOT\n",
    "    # run here when we call them. Instead, they will just be created as generator objects.\n",
    "    # These generators will be used to run the functions one yield (i.e., step) at a time.\n",
    "    left_generator = drum_left_hand()\n",
    "    right_generator = drum_right_hand()\n",
    "\n",
    "    # Now we will actually start the task.\n",
    "    # The task (playing the drums) will be run as long as its\n",
    "    # execution time is shorter than the allowed max duration (t_drumming).\n",
    "    timer_drums.reset()\n",
    "    while timer_drums.now() < t_drumming:\n",
    "        \n",
    "        next(left_generator)\n",
    "        left_generator.send(t_beat) # We send t_beat to the generator.\n",
    "\n",
    "        next(right_generator)\n",
    "        right_generator.send(t_beat)\n",
    "\n",
    "        wait_for_seconds(0.01) # Small pause between steps.\n",
    "        \n",
    "        # We also print the time in console.\n",
    "        print(str(timer_drums.now()))\n",
    "\n",
    "    return None"
   ]
  },
  {
   "cell_type": "markdown",
   "metadata": {},
   "source": [
    "Now we can actually drum away!"
   ]
  },
  {
   "cell_type": "code",
   "execution_count": null,
   "metadata": {
    "lines_to_next_cell": 2
   },
   "outputs": [],
   "source": [
    "print(\"Starting drumming...\")\n",
    "\n",
    "app.start_sound('Triumph')\n",
    "hub.light_matrix.show_image('MUSIC_QUAVER')\n",
    "\n",
    "motor_left_arm.run_to_position(15)\n",
    "motor_right_arm.run_to_position(345)\n",
    "\n",
    "play_drums(bars=4, tempo=80)\n",
    "play_drums(bars=4, tempo=130)\n",
    "\n",
    "print(\"DONE!\")"
   ]
  },
  {
   "cell_type": "code",
   "execution_count": null,
   "metadata": {
    "lines_to_next_cell": 2
   },
   "outputs": [],
   "source": [
    "print(\"Going for the finale...\")\n",
    "\n",
    "motor_left_arm.run_to_position(15)\n",
    "motor_right_arm.run_to_position(345)\n",
    "\n",
    "for ii in range(0, 8):\n",
    "\n",
    "    wait_for_seconds(0.1)\n",
    "    motors_arms.start_at_power(50, steering=-100)\n",
    "    wait_for_seconds(0.1)\n",
    "    motors_arms.start_at_power(-50, steering=-100)\n",
    "\n",
    "app.play_sound('Tada')\n",
    "motor_left_arm.run_to_position(0, direction='shortest path')\n",
    "motor_right_arm.run_to_position(0, direction='shortest path')\n",
    "\n",
    "print(\"DONE!\")"
   ]
  },
  {
   "cell_type": "code",
   "execution_count": null,
   "metadata": {},
   "outputs": [],
   "source": [
    "print(\"-\"*15 + \" Execution ended \" + \"-\"*15 + \"\\n\")"
   ]
  }
 ],
 "metadata": {
  "jupytext": {
   "formats": "ipynb,py:percent"
  },
  "kernelspec": {
   "display_name": "Python 3",
   "language": "python",
   "name": "python3"
  },
  "language_info": {
   "codemirror_mode": {
    "name": "ipython",
    "version": 3
   },
   "file_extension": ".py",
   "mimetype": "text/x-python",
   "name": "python",
   "nbconvert_exporter": "python",
   "pygments_lexer": "ipython3",
   "version": "3.8.5"
  }
 },
 "nbformat": 4,
 "nbformat_minor": 4
}
