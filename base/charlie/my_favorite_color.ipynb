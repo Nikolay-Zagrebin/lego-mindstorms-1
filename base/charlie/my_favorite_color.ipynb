{
 "cells": [
  {
   "cell_type": "markdown",
   "metadata": {},
   "source": [
    "\n",
    "<p align=\"center\">\n",
    " <img width=\"100%\" src=\"../../multimedia/mindstorms_51515_logo.png\">\n",
    "</p>\n",
    "\n",
    "# `my_favorite_color`\n",
    "Python equivalent of the `My favorite color` program. Makes Charlie react differently depending on the color we show him.\n",
    "\n",
    "# Required robot\n",
    "* Charlie (with color sensor and color palette)\n",
    "\n",
    "<img src=\"./multimedia/charlie_color.jpg\" width=\"50%\" align=\"center\">\n",
    "\n",
    "# Source code\n",
    "You can find the code in the accompanying [`.py` file](https://github.com/arturomoncadatorres/lego-mindstorms/blob/main/base/charlie/my_favorite_color.py). To get it running, simply copy and paste it in a new Mindstorms project.\n",
    "\n",
    "# Imports"
   ]
  },
  {
   "cell_type": "code",
   "execution_count": null,
   "metadata": {},
   "outputs": [],
   "source": [
    "from mindstorms import MSHub, Motor, MotorPair, ColorSensor, DistanceSensor, App\n",
    "from mindstorms.control import wait_for_seconds, wait_until, Timer\n",
    "from mindstorms.operator import greater_than, greater_than_or_equal_to, less_than, less_than_or_equal_to, equal_to, not_equal_to\n",
    "import math"
   ]
  },
  {
   "cell_type": "markdown",
   "metadata": {},
   "source": [
    "# Initialization"
   ]
  },
  {
   "cell_type": "code",
   "execution_count": null,
   "metadata": {},
   "outputs": [],
   "source": [
    "hub = MSHub()\n",
    "app = App()"
   ]
  },
  {
   "cell_type": "code",
   "execution_count": null,
   "metadata": {},
   "outputs": [],
   "source": [
    "print(\"-\"*15 + \" Execution started \" + \"-\"*15 + \"\\n\")"
   ]
  },
  {
   "cell_type": "markdown",
   "metadata": {},
   "source": [
    "# Turn off center button \n",
    "By setting its color to black"
   ]
  },
  {
   "cell_type": "code",
   "execution_count": null,
   "metadata": {
    "lines_to_next_cell": 2
   },
   "outputs": [],
   "source": [
    "print(\"Turning center button off...\")\n",
    "hub.status_light.on('black')\n",
    "print(\"DONE!\")"
   ]
  },
  {
   "cell_type": "markdown",
   "metadata": {},
   "source": [
    "# Set arm motors to starting position\n",
    "In the original Scratch program, there's a `Charlie - Calibrate` block. I don't know exactly how the calibration is done, but in the end I think that it just sets the motor to position 0.\n",
    "Notice that moving motors to a specific position needs to be done individually (and sequentially). In other words, we cannot run a `MotorPair` to a position, only one motor at a time.\n"
   ]
  },
  {
   "cell_type": "code",
   "execution_count": null,
   "metadata": {},
   "outputs": [],
   "source": [
    "print(\"Setting arm motors to position 0...\")\n",
    "motor_b = Motor('B') # Left arm\n",
    "motor_f = Motor('F') # Right arm\n",
    "motor_b.run_to_position(0)\n",
    "motor_f.run_to_position(0)\n",
    "print(\"DONE!\")"
   ]
  },
  {
   "cell_type": "markdown",
   "metadata": {},
   "source": [
    "# Configure motors"
   ]
  },
  {
   "cell_type": "code",
   "execution_count": null,
   "metadata": {},
   "outputs": [],
   "source": [
    "print(\"Configuring motors...\")\n",
    "motors_movement = MotorPair('A', 'E')\n",
    "motors_movement.set_default_speed(80)\n",
    "print(\"DONE!\")"
   ]
  },
  {
   "cell_type": "markdown",
   "metadata": {},
   "source": [
    "# Program color reactions"
   ]
  },
  {
   "cell_type": "code",
   "execution_count": null,
   "metadata": {},
   "outputs": [],
   "source": [
    "color_sensor = ColorSensor('C')"
   ]
  },
  {
   "cell_type": "markdown",
   "metadata": {},
   "source": [
    "We will use a counter to control printing on the console.\n",
    "First, we need to initialize it."
   ]
  },
  {
   "cell_type": "code",
   "execution_count": null,
   "metadata": {},
   "outputs": [],
   "source": [
    "ii = 0"
   ]
  },
  {
   "cell_type": "markdown",
   "metadata": {},
   "source": [
    "Execution"
   ]
  },
  {
   "cell_type": "code",
   "execution_count": null,
   "metadata": {},
   "outputs": [],
   "source": [
    "while True: # This will make the execution go forever\n",
    "\n",
    "    if ii == 0:\n",
    "        # We will only print \"Waiting for color\" when the counter is 0.\n",
    "        print(\"Waiting for color...\")\n",
    "    \n",
    "    # Get the color value.\n",
    "    color = color_sensor.get_color()\n",
    "\n",
    "    # We need to make sure that Charlie reacts only when he perceives a color.\n",
    "    # To do so, we check what color Charlie perceived. If he didn't perceive\n",
    "    # a color, color_sensor.get_color() returns None.\n",
    "    if not color == None:\n",
    "\n",
    "        print(\"Reacting to color \" + color + \"...\")\n",
    "        \n",
    "        # Turn on the center button of the corresponding color.\n",
    "        hub.status_light.on(color)\n",
    "\n",
    "        # Let's give it a short pause.\n",
    "        wait_for_seconds(1)\n",
    "\n",
    "        # Define reactions to each color.\n",
    "        if color == 'green':\n",
    "            hub.light_matrix.show_image('HAPPY')\n",
    "            motors_movement.move(40, unit='cm', steering=100)\n",
    "            motors_movement.move(40, unit='cm', steering=-100)\n",
    "\n",
    "        elif color == 'yellow':\n",
    "            hub.light_matrix.show_image('SURPRISED')\n",
    "            motors_movement.move(-20, unit='cm', steering=0)\n",
    "\n",
    "        elif color == 'red':\n",
    "            hub.light_matrix.show_image('ANGRY')\n",
    "            motors_movement.move(10, units='cm', steering=0)\n",
    "\n",
    "        else:\n",
    "            # For all the other colors, do nothing.\n",
    "            # If we want a program to do nothing, we can use pass.\n",
    "            # Just for the sake of demonstration/completion. \n",
    "            pass\n",
    "\n",
    "        # Turn off center button and image.\n",
    "        hub.status_light.on('black')\n",
    "        hub.light_matrix.off()\n",
    "        \n",
    "        print(\"DONE!\")\n",
    "        \n",
    "        # Reset the counter to 0, to make sure that \"Waiting for color\" is printed (again).\n",
    "        ii = 0        \n",
    "\n",
    "\n",
    "    else:\n",
    "        # If no color was perceived, increase the counter.\n",
    "        # This way, we make sure that the \"Waiting for color\" text is printed on the console\n",
    "        # just once (when it has a value of 0). Otherwise, it would be printed continuously every time the sensor got its reading.\n",
    "\n",
    "        ii = ii + 1 # Alternatively, we could've written ii =+ 1, which is a bit shorter (and very common in Python)."
   ]
  },
  {
   "cell_type": "markdown",
   "metadata": {},
   "source": [
    "Notice, though, how we will never reach the following line, since the execution of the program is in a `while True`."
   ]
  },
  {
   "cell_type": "code",
   "execution_count": null,
   "metadata": {},
   "outputs": [],
   "source": [
    "print(\"-\"*15 + \" Execution ended \" + \"-\"*15 + \"\\n\")"
   ]
  }
 ],
 "metadata": {
  "jupytext": {
   "formats": "ipynb,py:percent"
  },
  "kernelspec": {
   "display_name": "Python 3",
   "language": "python",
   "name": "python3"
  },
  "language_info": {
   "codemirror_mode": {
    "name": "ipython",
    "version": 3
   },
   "file_extension": ".py",
   "mimetype": "text/x-python",
   "name": "python",
   "nbconvert_exporter": "python",
   "pygments_lexer": "ipython3",
   "version": "3.8.5"
  }
 },
 "nbformat": 4,
 "nbformat_minor": 4
}
