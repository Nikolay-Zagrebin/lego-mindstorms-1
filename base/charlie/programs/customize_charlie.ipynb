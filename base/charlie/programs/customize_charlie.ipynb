{
 "cells": [
  {
   "cell_type": "markdown",
   "metadata": {},
   "source": [
    "\n",
    "<p align=\"center\">\n",
    " <img width=\"100%\" src=\"../../../multimedia/mindstorms_51515_logo.png\">\n",
    "</p>\n",
    "\n",
    "# `customize_charlie`\n",
    "Python equivalent of the `Customize Charlie` program. Play with Charlie and make him discover the world around him.\n",
    "\n",
    "# Required robot\n",
    "* Charlie\n",
    "\n",
    "<img src=\"../multimedia/charlie.png\" width=\"50%\" align=\"center\">\n",
    "\n",
    "# Source code\n",
    "You can find the code in the accompanying [`.py` file](https://github.com/arturomoncadatorres/lego-mindstorms/blob/main/base/charlie/programs/customize_charlie.py). To get it running, simply copy and paste it in a new Mindstorms project.\n",
    "\n",
    "# Imports"
   ]
  },
  {
   "cell_type": "code",
   "execution_count": null,
   "metadata": {},
   "outputs": [],
   "source": [
    "from mindstorms import MSHub, Motor, MotorPair, ColorSensor, DistanceSensor, App\n",
    "from mindstorms.control import wait_for_seconds, wait_until, Timer\n",
    "from mindstorms.operator import greater_than, greater_than_or_equal_to, less_than, less_than_or_equal_to, equal_to, not_equal_to\n",
    "import math"
   ]
  },
  {
   "cell_type": "markdown",
   "metadata": {},
   "source": [
    "# Initialization"
   ]
  },
  {
   "cell_type": "code",
   "execution_count": null,
   "metadata": {},
   "outputs": [],
   "source": [
    "print(\"-\"*15 + \" Execution started \" + \"-\"*15 + \"\\n\")"
   ]
  },
  {
   "cell_type": "code",
   "execution_count": null,
   "metadata": {},
   "outputs": [],
   "source": [
    "hub = MSHub()\n",
    "app = App()"
   ]
  },
  {
   "cell_type": "markdown",
   "metadata": {},
   "source": [
    "# Turn off center button \n",
    "By setting its color to black"
   ]
  },
  {
   "cell_type": "code",
   "execution_count": null,
   "metadata": {
    "lines_to_next_cell": 2
   },
   "outputs": [],
   "source": [
    "print(\"Turning center button off...\")\n",
    "hub.status_light.on('black')\n",
    "print(\"DONE!\")"
   ]
  },
  {
   "cell_type": "markdown",
   "metadata": {},
   "source": [
    "# Set arm motors to starting position\n",
    "In the original Scratch program, there's a `Charlie - Calibrate` block. I don't know exactly how the calibration is done, but in the end I think that it just sets the motor to position 0.\n",
    "Notice that moving motors to a specific position needs to be done individually (and sequentially). In other words, we cannot run a `MotorPair` to a position, only one motor at a time.\n"
   ]
  },
  {
   "cell_type": "code",
   "execution_count": null,
   "metadata": {},
   "outputs": [],
   "source": [
    "print(\"Setting arm motors to position 0...\")\n",
    "motor_b = Motor('B') # Left arm\n",
    "motor_f = Motor('F') # Right arm\n",
    "motor_b.run_to_position(0)\n",
    "motor_f.run_to_position(0)\n",
    "print(\"DONE!\")"
   ]
  },
  {
   "cell_type": "markdown",
   "metadata": {},
   "source": [
    "# Configure motors"
   ]
  },
  {
   "cell_type": "code",
   "execution_count": null,
   "metadata": {
    "lines_to_next_cell": 2
   },
   "outputs": [],
   "source": [
    "print(\"Configuring motors...\")\n",
    "motors_wheels = MotorPair('A', 'E')\n",
    "print(\"DONE!\")"
   ]
  },
  {
   "cell_type": "markdown",
   "metadata": {},
   "source": [
    "# Rise arms"
   ]
  },
  {
   "cell_type": "code",
   "execution_count": null,
   "metadata": {},
   "outputs": [],
   "source": [
    "print(\"Rising arms...\")\n",
    "motor_f.set_default_speed(-75)\n",
    "motors_arms = MotorPair('B', 'F')\n",
    "motors_arms.move(-90, unit='degrees') # Negative angle is clockwise movement\n",
    "motors_arms.move(90, unit='degrees') # Positive angle is counterclockwise movement\n",
    "print(\"DONE!\")"
   ]
  },
  {
   "cell_type": "markdown",
   "metadata": {},
   "source": [
    "# Customizing Charlie\n",
    "## Defining functions\n",
    "I think that the main point of the original program is to show how Scratch's `My Block`s work.\n",
    "This is the equivalent of Python functions. Thus, first we will define them.\n",
    "\n",
    "It is important to note how the objects `hue`, `app`, and all the motors are defined globally\n",
    "(and don't need to be passed as arguments to the functions). It is also worth mentioning that\n",
    "it is good practice that functions always return something, even if it is a `None`."
   ]
  },
  {
   "cell_type": "code",
   "execution_count": null,
   "metadata": {
    "lines_to_next_cell": 1
   },
   "outputs": [],
   "source": [
    "def charlie_happy():\n",
    "    print(\"Making Charlie happy...\")\n",
    "\n",
    "    hub.light_matrix.show_image('HAPPY')\n",
    "    app.start_sound('Robot 1')\n",
    "\n",
    "    # Move forward.\n",
    "    motors_wheels.move(10, steering=0)\n",
    "\n",
    "    # Move arms.\n",
    "    motor_f.run_for_degrees(90)\n",
    "    for ii in range(0,3):\n",
    "        motor_f.run_for_seconds(0.2, speed=100)\n",
    "        motor_f.run_for_seconds(0.2, speed=-100)\n",
    "    motor_f.run_to_position(0, direction='shortest path')\n",
    "\n",
    "    return None"
   ]
  },
  {
   "cell_type": "code",
   "execution_count": null,
   "metadata": {
    "lines_to_next_cell": 1
   },
   "outputs": [],
   "source": [
    "def charlie_silly():\n",
    "    print(\"Making Charlie silly...\")\n",
    "\n",
    "    hub.light_matrix.show_image('SILLY')\n",
    "    app.start_sound('Robot 2')\n",
    "\n",
    "    # Turn.\n",
    "    motors_wheels.move(10, unit='cm', steering=100)\n",
    "\n",
    "    # Move arms.\n",
    "    for ii in range(0, 2):\n",
    "        motor_b.run_to_position(90, direction='clockwise')\n",
    "        motor_b.run_to_position(270, direction='counterclockwise')\n",
    "    motor_b.run_to_position(0, direction='shortest path')\n",
    "\n",
    "    return None"
   ]
  },
  {
   "cell_type": "code",
   "execution_count": null,
   "metadata": {
    "lines_to_next_cell": 1
   },
   "outputs": [],
   "source": [
    "def charlie_scared():\n",
    "    print(\"Making Charlie scared...\")\n",
    "\n",
    "    hub.light_matrix.show_image('CONFUSED') # We have no SCARED image.\n",
    "    app.start_sound('Robot 3')\n",
    "\n",
    "    motors_arms.move(-90, unit='degrees', steering=0) # Raise arms\n",
    "    motors_wheels.move(5, unit='cm', steering=-100) # Turn back\n",
    "    motors_arms.move(90, unit='degrees', steering=0) # Lower arms\n",
    "    return None"
   ]
  },
  {
   "cell_type": "markdown",
   "metadata": {},
   "source": [
    "## Execution functions\n",
    "Now we can call the functions"
   ]
  },
  {
   "cell_type": "code",
   "execution_count": null,
   "metadata": {},
   "outputs": [],
   "source": [
    "print(\"Should we make Charlie happy?\")\n",
    "charlie_happy()\n",
    "wait_for_seconds(2)\n",
    "print(\"DONE!\")\n",
    "\n",
    "print(\"Should we make Charlie silly?\")\n",
    "charlie_silly()\n",
    "wait_for_seconds(2)\n",
    "print(\"DONE!\")\n",
    "\n",
    "print(\"Should we make Charlie scared?\")\n",
    "charlie_scared()\n",
    "wait_for_seconds(2)\n",
    "print(\"DONE!\")"
   ]
  },
  {
   "cell_type": "code",
   "execution_count": null,
   "metadata": {},
   "outputs": [],
   "source": [
    "print(\"-\"*15 + \" Execution ended \" + \"-\"*15 + \"\\n\")"
   ]
  }
 ],
 "metadata": {
  "jupytext": {
   "formats": "ipynb,py:percent"
  },
  "kernelspec": {
   "display_name": "Python 3",
   "language": "python",
   "name": "python3"
  },
  "language_info": {
   "codemirror_mode": {
    "name": "ipython",
    "version": 3
   },
   "file_extension": ".py",
   "mimetype": "text/x-python",
   "name": "python",
   "nbconvert_exporter": "python",
   "pygments_lexer": "ipython3",
   "version": "3.8.5"
  }
 },
 "nbformat": 4,
 "nbformat_minor": 4
}
