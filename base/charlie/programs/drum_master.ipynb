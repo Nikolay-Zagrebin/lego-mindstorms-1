{
 "cells": [
  {
   "cell_type": "markdown",
   "metadata": {},
   "source": [
    "\n",
    "<p align=\"center\">\n",
    " <img width=\"100%\" src=\"../../../multimedia/mindstorms_51515_logo.png\">\n",
    "</p>\n",
    "\n",
    "# `drum_solo`\n",
    "Python equivalent of the `Drum master!` program. Charlie takes his drumming to a new level.\n",
    "\n",
    "This program is a direct follow-up of `drum_solo`. Actually, the first part is exactly the same.\n",
    "For the sake of shortness, I am not including the complete explanation of it (including\n",
    "the use of coroutines for \"parallel\" execution, which can be a bit overwhelming if you don't\n",
    "know what's going on). Therefore, if you want to know more about it, I invite you \n",
    "to take a look at the [`drum_solo`](https://nbviewer.jupyter.org/github/arturomoncadatorres/lego-mindstorms/blob/main/base/charlie/programs/drum_solo.ipynb?flush_cache=True) program.\n",
    "\n",
    "# Required robot\n",
    "* Charlie (with advanced drum set)\n",
    "\n",
    "<img src=\"../multimedia/charlie_drummer_advanced.png\" width=\"50%\" align=\"center\">\n",
    "\n",
    "However, during my testing, the drumsticks kept moving or falling, which was a bit frustrating. Thus, I adapted Charlie's hands grip to hold the drumsticks more steadily, as shown here. Basically, I replaced the fingertips with pins, where I snapped in the drumsticks:\n",
    "\n",
    "<table><tr>\n",
    "<td> <img src=\"../multimedia/charlie_drummer_fingertips_1.jpeg\" alt=\"\" style=\"width: 100%;\"/> </td>\n",
    "<td> <img src=\"../multimedia/charlie_drummer_fingertips_2.jpeg\" alt=\"\" style=\"width: 100%;\"/> </td>\n",
    "<td> <img src=\"../multimedia/charlie_drummer_fingertips_3.jpeg\" alt=\"\" style=\"width: 100%;\"/> </td>\n",
    "<td> <img src=\"../multimedia/charlie_drummer_fingertips_4.jpeg\" alt=\"\" style=\"width: 100%;\"/> </td>\n",
    "</tr></table>\n",
    "\n",
    "Much, much better.\n",
    "\n",
    "# Source code\n",
    "You can find the code in the accompanying [`.py` file](https://github.com/arturomoncadatorres/lego-mindstorms/blob/main/base/charlie/programs/drum_master.py). To get it running, simply copy and paste it in a new Mindstorms project.\n",
    "\n",
    "# Imports"
   ]
  },
  {
   "cell_type": "code",
   "execution_count": null,
   "metadata": {},
   "outputs": [],
   "source": [
    "from mindstorms import MSHub, Motor, MotorPair, ColorSensor, DistanceSensor, App\n",
    "from mindstorms.control import wait_for_seconds, wait_until, Timer\n",
    "from mindstorms.operator import greater_than, greater_than_or_equal_to, less_than, less_than_or_equal_to, equal_to, not_equal_to\n",
    "import math"
   ]
  },
  {
   "cell_type": "code",
   "execution_count": null,
   "metadata": {},
   "outputs": [],
   "source": [
    "from utime import sleep as wait_for_seconds\n",
    "from utime import ticks_diff, ticks_ms"
   ]
  },
  {
   "cell_type": "markdown",
   "metadata": {},
   "source": [
    "# Initialization"
   ]
  },
  {
   "cell_type": "code",
   "execution_count": null,
   "metadata": {},
   "outputs": [],
   "source": [
    "print(\"-\"*15 + \" Execution started \" + \"-\"*15 + \"\\n\")"
   ]
  },
  {
   "cell_type": "code",
   "execution_count": null,
   "metadata": {},
   "outputs": [],
   "source": [
    "hub = MSHub()\n",
    "app = App()"
   ]
  },
  {
   "cell_type": "code",
   "execution_count": null,
   "metadata": {
    "lines_to_next_cell": 2
   },
   "outputs": [],
   "source": [
    "hub.status_light.on('black')"
   ]
  },
  {
   "cell_type": "markdown",
   "metadata": {},
   "source": [
    "# Configure motors"
   ]
  },
  {
   "cell_type": "code",
   "execution_count": null,
   "metadata": {},
   "outputs": [],
   "source": [
    "print(\"Configuring motors...\")\n",
    "motor_left_arm = Motor('B') # Left arm\n",
    "motor_right_arm = Motor('F') # Right arm\n",
    "motors_arms = MotorPair('B', 'F')\n",
    "motors_wheels = MotorPair('A', 'E')\n",
    "print(\"DONE!\")"
   ]
  },
  {
   "cell_type": "markdown",
   "metadata": {},
   "source": [
    "# Set arm motors to starting position"
   ]
  },
  {
   "cell_type": "code",
   "execution_count": null,
   "metadata": {},
   "outputs": [],
   "source": [
    "print(\"Setting arm motors to position 0...\")\n",
    "motor_left_arm.run_to_position(0)\n",
    "motor_right_arm.run_to_position(0)\n",
    "print(\"DONE!\")"
   ]
  },
  {
   "cell_type": "markdown",
   "metadata": {},
   "source": [
    "# Overwrite `Timer`"
   ]
  },
  {
   "cell_type": "code",
   "execution_count": null,
   "metadata": {},
   "outputs": [],
   "source": [
    "print(\"Overwriting timer...\")\n",
    "\n",
    "class Timer():\n",
    "    \"\"\"\n",
    "    Replacement Timer class that allows using floats (i.e., seconds with a decimal place). \n",
    "    \"\"\"\n",
    "\n",
    "    def __init__(self):\n",
    "        \"\"\"\n",
    "        Initialization\n",
    "        \"\"\"\n",
    "        self.start_ticks = 0\n",
    "\n",
    "    def now(self):\n",
    "        \"\"\"\n",
    "        Returns the time (in seconds) since the timer was last reset.\n",
    "        \"\"\"\n",
    "        return ticks_diff(ticks_ms(), self.start_ticks) / 1000\n",
    "\n",
    "    def reset(self):\n",
    "        \"\"\"\n",
    "        Resets the timer\n",
    "        \"\"\"\n",
    "        self.start_ticks = ticks_ms()\n",
    "\n",
    "print(\"DONE!\")"
   ]
  },
  {
   "cell_type": "markdown",
   "metadata": {},
   "source": [
    "# Make Charlie drum away\n",
    "\n",
    "## Define the `play_drums` function"
   ]
  },
  {
   "cell_type": "code",
   "execution_count": null,
   "metadata": {
    "lines_to_next_cell": 2
   },
   "outputs": [],
   "source": [
    "timer_drums = Timer()\n",
    "background_timer_left = Timer()\n",
    "background_timer_right = Timer()\n",
    "\n",
    "def play_drums(bars=4, tempo=100):\n",
    "\n",
    "    \"\"\"\n",
    "    Makes Charlie play the drums.\n",
    "    \n",
    "    Parameters\n",
    "    ----------\n",
    "    bars:\n",
    "        Number of bars (in our case, simple number of cycles).\n",
    "        Default value is 4.\n",
    "    tempo:\n",
    "        Playing tempo (in bpm).\n",
    "        Default value is 100\n",
    "            \n",
    "    Returns\n",
    "    -------\n",
    "    None\n",
    "    \"\"\"\n",
    "    \n",
    "    t_beat = 60 * (1/tempo)\n",
    "    print(\"t_beat = \" + str(t_beat))\n",
    "\n",
    "    t_bar = t_beat * 4\n",
    "    print(\"t_bar = \" + str(t_bar))\n",
    "\n",
    "    t_drumming = t_bar * bars\n",
    "    print(\"t_drumming = \" + str(t_drumming))\n",
    "\n",
    "\n",
    "    def background_left_arm(t):\n",
    "        \"\"\"\n",
    "        Parameters\n",
    "        ----------\n",
    "        t:\n",
    "            Time (in seconds) for which the left arm will execute this action.\n",
    "        \"\"\"\n",
    "        background_timer_left.reset() # Make sure timer is on 0.\n",
    "\n",
    "        while background_timer_left.now() < t:\n",
    "            yield\n",
    "\n",
    "    def background_right_arm(t):\n",
    "        \"\"\"\n",
    "        Parameters\n",
    "        ----------\n",
    "        t:\n",
    "            Time (in seconds) for which the right arm will execute this action.\n",
    "        \"\"\"\n",
    "        background_timer_right.reset()\n",
    "        while background_timer_right.now() < t:\n",
    "            yield\n",
    "\n",
    "    def drum_left_hand():\n",
    "        while True:\n",
    "\n",
    "            t_action = yield\n",
    "\n",
    "            if not t_action == None:\n",
    "\n",
    "                motor_left_arm.start_at_power(50)\n",
    "                yield from background_left_arm(t_action/2)\n",
    "                motor_left_arm.start_at_power(-50)\n",
    "                yield from background_left_arm(t_action/2)\n",
    "\n",
    "\n",
    "    def drum_right_hand():\n",
    "\n",
    "        while True:\n",
    "            t_action = yield\n",
    "\n",
    "            if not t_action == None:\n",
    "\n",
    "                motor_right_arm.start_at_power(-25)    \n",
    "                yield from background_right_arm((t_action/2)*4)\n",
    "                motor_right_arm.start_at_power(25)\n",
    "                yield from background_right_arm((t_action/2)*4)\n",
    "\n",
    "    left_generator = drum_left_hand()\n",
    "    right_generator = drum_right_hand()\n",
    "\n",
    "    timer_drums.reset()\n",
    "    while timer_drums.now() < t_drumming:\n",
    "        \n",
    "        next(left_generator)\n",
    "        left_generator.send(t_beat)\n",
    "\n",
    "        next(right_generator)\n",
    "        right_generator.send(t_beat)\n",
    "\n",
    "        wait_for_seconds(0.01)\n",
    "        \n",
    "        print(str(timer_drums.now()))\n",
    "\n",
    "    return None"
   ]
  },
  {
   "cell_type": "markdown",
   "metadata": {},
   "source": [
    "## Repeat the part of `drum_solo`"
   ]
  },
  {
   "cell_type": "code",
   "execution_count": null,
   "metadata": {},
   "outputs": [],
   "source": [
    "print(\"Executing drum_solo part...\")"
   ]
  },
  {
   "cell_type": "code",
   "execution_count": null,
   "metadata": {},
   "outputs": [],
   "source": [
    "app.start_sound('Triumph')\n",
    "hub.light_matrix.show_image('MUSIC_QUAVER')\n",
    "\n",
    "motor_left_arm.run_to_position(15)\n",
    "motor_right_arm.run_to_position(345)\n",
    "\n",
    "play_drums(bars=4, tempo=80)\n",
    "play_drums(bars=4, tempo=130)"
   ]
  },
  {
   "cell_type": "code",
   "execution_count": null,
   "metadata": {},
   "outputs": [],
   "source": [
    "motor_left_arm.run_to_position(15)\n",
    "motor_right_arm.run_to_position(345)\n",
    "\n",
    "for ii in range(0, 8):\n",
    "\n",
    "    wait_for_seconds(0.1)\n",
    "    motors_arms.start_at_power(50, steering=-100)\n",
    "    wait_for_seconds(0.1)\n",
    "    motors_arms.start_at_power(-50, steering=-100)\n",
    "\n",
    "app.play_sound('Tada')\n",
    "motor_left_arm.run_to_position(0, direction='shortest path')\n",
    "motor_right_arm.run_to_position(0, direction='shortest path')"
   ]
  },
  {
   "cell_type": "code",
   "execution_count": null,
   "metadata": {},
   "outputs": [],
   "source": [
    "print(\"DONE!\")"
   ]
  },
  {
   "cell_type": "markdown",
   "metadata": {},
   "source": [
    "## Actual `drum_master` part"
   ]
  },
  {
   "cell_type": "code",
   "execution_count": null,
   "metadata": {},
   "outputs": [],
   "source": [
    "motor_left_arm.run_to_position(60)\n",
    "motor_right_arm.run_to_position(335)\n",
    "\n",
    "# Hit that pedal, baby\n",
    "print(\"Hitting the pedal...\")\n",
    "motors_wheels.move(3, unit='cm')\n",
    "print(\"DONE!\")"
   ]
  },
  {
   "cell_type": "code",
   "execution_count": null,
   "metadata": {
    "lines_to_next_cell": 2
   },
   "outputs": [],
   "source": [
    "# Fire first drum blaster\n",
    "print(\"Firing first drum blaster...\")\n",
    "motors_wheels.move(2.5, unit='cm', steering=-100)\n",
    "\n",
    "for ii in range(0, 3):\n",
    "    motor_right_arm.start_at_power(40)\n",
    "    wait_for_seconds(0.12)\n",
    "    motor_right_arm.start_at_power(-40)\n",
    "    wait_for_seconds(0.12)\n",
    "motor_right_arm.run_to_position(300, direction='shortest path')\n",
    "\n",
    "motor_left_arm.run_for_seconds(0.5, speed=-100)\n",
    "motor_left_arm.run_to_position(25, direction='shortest path')\n",
    "print(\"DONE!\")"
   ]
  },
  {
   "cell_type": "code",
   "execution_count": null,
   "metadata": {},
   "outputs": [],
   "source": [
    "# Fire second drum blaster\n",
    "print(\"Firing second drum blaster...\")\n",
    "motors_wheels.move(5, unit='cm', steering=100)\n",
    "\n",
    "for ii in range(0, 4):\n",
    "    motor_left_arm.start_at_power(-40)\n",
    "    wait_for_seconds(0.12)\n",
    "    motor_left_arm.start_at_power(40)\n",
    "    wait_for_seconds(0.12)\n",
    "motor_left_arm.run_to_position(60, direction='shortest path')\n",
    "\n",
    "motor_right_arm.run_for_seconds(0.5, speed=100)\n",
    "motor_right_arm.run_to_position(345, direction='shortest path')\n",
    "print(\"DONE!\")"
   ]
  },
  {
   "cell_type": "code",
   "execution_count": null,
   "metadata": {},
   "outputs": [],
   "source": [
    "# Return to initial position\n",
    "print(\"Returning to initial position...\")\n",
    "app.start_sound('Applause 3') # Charlie deserves some applause\n",
    "motor_left_arm.run_to_position(15, direction='shortest path')\n",
    "motors_wheels.move(2.5, unit='cm', steering=-100)\n",
    "motors_wheels.move(-3, unit='cm')\n",
    "print(\"DONE!\")"
   ]
  },
  {
   "cell_type": "code",
   "execution_count": null,
   "metadata": {},
   "outputs": [],
   "source": [
    "print(\"-\"*15 + \" Execution ended \" + \"-\"*15 + \"\\n\")"
   ]
  }
 ],
 "metadata": {
  "jupytext": {
   "formats": "ipynb,py:percent"
  },
  "kernelspec": {
   "display_name": "Python 3",
   "language": "python",
   "name": "python3"
  },
  "language_info": {
   "codemirror_mode": {
    "name": "ipython",
    "version": 3
   },
   "file_extension": ".py",
   "mimetype": "text/x-python",
   "name": "python",
   "nbconvert_exporter": "python",
   "pygments_lexer": "ipython3",
   "version": "3.8.5"
  }
 },
 "nbformat": 4,
 "nbformat_minor": 4
}
