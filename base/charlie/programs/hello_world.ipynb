{
 "cells": [
  {
   "cell_type": "markdown",
   "metadata": {},
   "source": [
    "\n",
    "<p align=\"center\">\n",
    " <img width=\"100%\" src=\"../../../multimedia/mindstorms_51515_logo.png\">\n",
    "</p>\n",
    "\n",
    "# `hello_world`\n",
    "Python equivalent of the `Hello World` program. Displays an image and plays a sound using the hub.\n",
    "\n",
    "# Required robot\n",
    "* Charlie (head)\n",
    "\n",
    "<img src=\"../multimedia/charlie_head.png\" width=\"50%\" align=\"center\">\n",
    "\n",
    "# Source code\n",
    "You can find the code in the accompanying [`.py` file](https://github.com/arturomoncadatorres/lego-mindstorms/blob/main/base/charlie/programs/hello_world.py). To get it running, simply copy and paste it in a new Mindstorms project.\n",
    "\n",
    "# Imports"
   ]
  },
  {
   "cell_type": "code",
   "execution_count": null,
   "metadata": {},
   "outputs": [],
   "source": [
    "from mindstorms import MSHub, Motor, MotorPair, ColorSensor, DistanceSensor, App\n",
    "from mindstorms.control import wait_for_seconds, wait_until, Timer\n",
    "from mindstorms.operator import greater_than, greater_than_or_equal_to, less_than, less_than_or_equal_to, equal_to, not_equal_to\n",
    "import math"
   ]
  },
  {
   "cell_type": "markdown",
   "metadata": {},
   "source": [
    "# Initialization"
   ]
  },
  {
   "cell_type": "code",
   "execution_count": null,
   "metadata": {},
   "outputs": [],
   "source": [
    "hub = MSHub()\n",
    "app = App()"
   ]
  },
  {
   "cell_type": "markdown",
   "metadata": {},
   "source": [
    "# Set color of center button\n",
    "Possible values of color are:\n",
    "\n",
    "* `azure` (probably my favorite)\n",
    "* `black` (turns it off)\n",
    "* `blue`\n",
    "* `cyan`\n",
    "* `green`\n",
    "* `orange`\n",
    "* `pink`\n",
    "* `red`\n",
    "* `violet`\n",
    "* `yellow`\n",
    "* `white` (default)"
   ]
  },
  {
   "cell_type": "code",
   "execution_count": null,
   "metadata": {},
   "outputs": [],
   "source": [
    "button_color = 'black'\n",
    "print(\"Turning color of center button to \" + button_color + \"...\")\n",
    "hub.status_light.on(button_color)\n",
    "print(\"DONE!\")"
   ]
  },
  {
   "cell_type": "markdown",
   "metadata": {},
   "source": [
    "# Set orientation\n",
    "At the time of writing, there is no equivalent in Micropython\n",
    "to the \"set orientation to\" block. This means that we are stuck\n",
    "with a default orientation of upright."
   ]
  },
  {
   "cell_type": "markdown",
   "metadata": {},
   "source": [
    "# Start \"animation\"\n",
    "At the time of writing, there is no equivalent in Python\n",
    "to the \"start animation\" block. However, we can display images in the hub.\n",
    "\n",
    "For a complete list of possible animations, see the example [`random_images`](https://github.com/arturomoncadatorres/lego-mindstorms/tree/main/examples)"
   ]
  },
  {
   "cell_type": "code",
   "execution_count": null,
   "metadata": {},
   "outputs": [],
   "source": [
    "image = 'HEART'\n",
    "brightness = 75"
   ]
  },
  {
   "cell_type": "code",
   "execution_count": null,
   "metadata": {},
   "outputs": [],
   "source": [
    "print(\"Starting animation '\" + image  + \"' with brightness \" + str(brightness) + \"...\")\n",
    "hub.light_matrix.show_image(image, brightness)\n",
    "print(\"DONE!\")"
   ]
  },
  {
   "cell_type": "markdown",
   "metadata": {},
   "source": [
    "Unfortuantely, Micropython doesn't support f-strings.\n",
    "Thus, notice how if we want to print a number, we need to cast it as a string.\n",
    "\n",
    "# Play sound\n",
    "At the time of writing, there is no equivalent in Micropython\n",
    "to playing sounds from the hub. This means that we are stuck\n",
    "with playing sounds only from the system (e.g., computer, tablet)\n",
    "where we are programming. Possible sounds are:\n",
    "\n",
    "* `Alert`\n",
    "* `Applause 1` or `Applause 2` or `Applause 3`\n",
    "* `Baa`\n",
    "* `Bang 1` or `Bang 2`\n",
    "* `Basketball Bounce`\n",
    "* `Big Boing`\n",
    "* `Bird`\n",
    "* `Bite`\n",
    "* `Boat Horn 1` or `Boat Horn 2`\n",
    "* `Bonk`\n",
    "* `Boom Cloud`\n",
    "* `Boop Bing Bop`\n",
    "* `Bowling Strike`\n",
    "* `Burp 1` or `Burp 2` or `Burp 3`\n",
    "* `Car Accelerate 1` or `Car Accelerating 2`\n",
    "* `Car Horn`\n",
    "* `Car Idle`\n",
    "* `Car Reverse`\n",
    "* `Car Skid 1` or `Car Skid 2`\n",
    "* `Car Vroom`\n",
    "* `Cat Angry`\n",
    "* `Cat Happy`\n",
    "* `Cat Hiss`\n",
    "* `Cat Meow 1` or `Cat Meow 2` or `Cat Meow 3`\n",
    "* `Cat Purring`\n",
    "* `Cat Whining`\n",
    "* `Chatter`\n",
    "* `Chirp`\n",
    "* `Clang`\n",
    "* `Clock Ticking`\n",
    "* `Clown Honk 1` or `Clown Honk 2` or `Clown Honk 3`\n",
    "* `Coin`\n",
    "* `Collect`\n",
    "* `Connect`\n",
    "* `Crank`\n",
    "* `Crazy Laugh`\n",
    "* `Croak`\n",
    "* `Crowd Gasp`\n",
    "* `Crunch`\n",
    "* `Cuckoo`\n",
    "* `Cymbal Crash`\n",
    "* `Disconnect`\n",
    "* `Dog Bark 1` or `Dog Bark 2` or `Dog Bark 3`\n",
    "* `Dog Whining 1` or `Dog Whining 2`\n",
    "* `Doorbell 1` or `Doorbell 2` or `Doorbell 3`\n",
    "* `Door Closing`\n",
    "* `Door Creek 1` or `Door Creek 2`\n",
    "* `Door Handle`\n",
    "* `Door Knock`\n",
    "* `Door Slam 1` or `Door Slam 2`\n",
    "* `Drum Roll`\n",
    "* `Dun Dun Dunnn`\n",
    "* `Emotional Piano`\n",
    "* `Fart 1` or `Fart 2` or `Fart 3`\n",
    "* `Footsteps`\n",
    "* `Gallop`\n",
    "* `Glass Breaking`\n",
    "* `Glug`\n",
    "* `Goal Cheer`\n",
    "* `Gong`\n",
    "* `Growl`\n",
    "* `Grunt`\n",
    "* `Hammer Hit`\n",
    "* `Head Shake`\n",
    "* `High Whoosh`\n",
    "* `Jump`\n",
    "* `Jungle Frogs`\n",
    "* `Laser 1` or `Laser 2` or `Laser 3`\n",
    "* `Laughing Baby 1` or `Laughing Baby 2`\n",
    "* `Laughing Boy`\n",
    "* `Laughing Crowd 1` or `Laughing Crowd 2`\n",
    "* `Laughing Girl`\n",
    "* `Laughing Male`\n",
    "* `Lose`\n",
    "* `Low Boing`\n",
    "* `Low Squeak`\n",
    "* `Low Whoosh`\n",
    "* `Magic Spell`\n",
    "* `Male Jump 1` or `Male Jump 2`\n",
    "* `Moo`\n",
    "* `Ocean Wave`\n",
    "* `Oops`\n",
    "* `Orchestra Tuning`\n",
    "* `Party Blower`\n",
    "* `Pew`\n",
    "* `Ping Pong Hit`\n",
    "* `Plane Flying By`\n",
    "* `Plane Motor Running`\n",
    "* `Plane Starting`\n",
    "* `Pluck`\n",
    "* `Police Siren 1` or `Police Siren 2` or `Police Siren 3`\n",
    "* `Punch`\n",
    "* `Rain`\n",
    "* `Ricochet`\n",
    "* `Rimshot`\n",
    "* `Ring Tone`\n",
    "* `Rip`\n",
    "* `Robot 1` or `Robot 2` or `Robot 3`\n",
    "* `Rocket Explosion Rumble`\n",
    "* `Rooster`\n",
    "* `Scrambling Feet`\n",
    "* `Screech`\n",
    "* `Seagulls`\n",
    "* `Service Announcement`\n",
    "* `Sewing Machine`\n",
    "* `Ship Bell`\n",
    "* `Siren Whistle`\n",
    "* `Skid`\n",
    "* `Slide Whistle 1` or `Slide Whistle 2`\n",
    "* `Sneaker Squeak`\n",
    "* `Snoring`\n",
    "* `Snort`\n",
    "* `Space Ambience`\n",
    "* `Space Flyby`\n",
    "* `Space Noise`\n",
    "* `Splash`\n",
    "* `Sport Whistle 1` or `Sport Whistle 2`\n",
    "* `Squeaky Toy`\n",
    "* `Squish Pop`\n",
    "* `Suction Cup`\n",
    "* `Tada`\n",
    "* `Telephone Ring` or `Telephone Ring 2`\n",
    "* `Teleport` or `Teleport 2` or `Teleport 2`\n",
    "* `Tennis Hit`\n",
    "* `Thunder Storm`\n",
    "* `Toliet Flush`\n",
    "* `Toy Honk`\n",
    "* `Toy Zing`\n",
    "* `Traffic`\n",
    "* `Train Breaks`\n",
    "* `Train Horn 1` or `Train Horn 2` or `Train Horn 3`\n",
    "* `Train On Tracks`\n",
    "* `Train Signal 1` or `Train Signal 2`\n",
    "* `Train Start`\n",
    "* `Train Whistle`\n",
    "* `Triumph`\n",
    "* `Tropical Birds`\n",
    "* `Wand`\n",
    "* `Water Drop`\n",
    "* `Toliet Flush` (TODO: check spelling)\n",
    "* `Whiz 1` or `Whiz 2`\n",
    "* `Window Breaks`\n",
    "* `Win`\n",
    "* `Wobble`\n",
    "* `Wood Tap`\n",
    "* `Zip`"
   ]
  },
  {
   "cell_type": "code",
   "execution_count": null,
   "metadata": {},
   "outputs": [],
   "source": [
    "sound = 'Tada'\n",
    "volume = 75"
   ]
  },
  {
   "cell_type": "code",
   "execution_count": null,
   "metadata": {},
   "outputs": [],
   "source": [
    "print(\"Playing sound '\" + sound + \"' with volume \" + str(volume) + \"...\")\n",
    "app.play_sound(sound, volume)\n",
    "print(\"DONE!\")"
   ]
  }
 ],
 "metadata": {
  "jupytext": {
   "formats": "ipynb,py:percent"
  },
  "kernelspec": {
   "display_name": "Python 3",
   "language": "python",
   "name": "python3"
  },
  "language_info": {
   "codemirror_mode": {
    "name": "ipython",
    "version": 3
   },
   "file_extension": ".py",
   "mimetype": "text/x-python",
   "name": "python",
   "nbconvert_exporter": "python",
   "pygments_lexer": "ipython3",
   "version": "3.8.5"
  }
 },
 "nbformat": 4,
 "nbformat_minor": 4
}
