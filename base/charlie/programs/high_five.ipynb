{
 "cells": [
  {
   "cell_type": "markdown",
   "metadata": {},
   "source": [
    "\n",
    "<p align=\"center\">\n",
    " <img width=\"100%\" src=\"../../../multimedia/mindstorms_51515_logo.png\">\n",
    "</p>\n",
    "\n",
    "# `high_five`\n",
    "Python equivalent of the `High five!` program. Let's high five our favorite robot. Don't let him hanging!\n",
    "\n",
    "# Required robot\n",
    "* Charlie (with distance sensor)\n",
    "\n",
    "<img src=\"../multimedia/charlie_distance.png\" width=\"50%\" align=\"center\">\n",
    "\n",
    "# Source code\n",
    "You can find the code in the accompanying [`.py` file](https://github.com/arturomoncadatorres/lego-mindstorms/blob/main/base/charlie/programs/high_five.py). To get it running, simply copy and paste it in a new Mindstorms project.\n",
    "\n",
    "# Imports"
   ]
  },
  {
   "cell_type": "code",
   "execution_count": null,
   "metadata": {},
   "outputs": [],
   "source": [
    "from mindstorms import MSHub, Motor, MotorPair, ColorSensor, DistanceSensor, App\n",
    "from mindstorms.control import wait_for_seconds, wait_until, Timer\n",
    "from mindstorms.operator import greater_than, greater_than_or_equal_to, less_than, less_than_or_equal_to, equal_to, not_equal_to\n",
    "import math"
   ]
  },
  {
   "cell_type": "markdown",
   "metadata": {},
   "source": [
    "# Initialization"
   ]
  },
  {
   "cell_type": "code",
   "execution_count": null,
   "metadata": {},
   "outputs": [],
   "source": [
    "print(\"-\"*15 + \" Execution started \" + \"-\"*15 + \"\\n\")"
   ]
  },
  {
   "cell_type": "code",
   "execution_count": null,
   "metadata": {},
   "outputs": [],
   "source": [
    "hub = MSHub()\n",
    "app = App()"
   ]
  },
  {
   "cell_type": "code",
   "execution_count": null,
   "metadata": {},
   "outputs": [],
   "source": [
    "hub.status_light.on('black')"
   ]
  },
  {
   "cell_type": "markdown",
   "metadata": {},
   "source": [
    "# Configure motors"
   ]
  },
  {
   "cell_type": "code",
   "execution_count": null,
   "metadata": {},
   "outputs": [],
   "source": [
    "print(\"Configuring motors...\")\n",
    "motor_left_arm = Motor('B') # Left arm\n",
    "motor_right_arm = Motor('F') # Right arm\n",
    "motors_arms = MotorPair('B', 'F')\n",
    "motors_wheels = MotorPair('A', 'E')\n",
    "print(\"DONE!\")"
   ]
  },
  {
   "cell_type": "markdown",
   "metadata": {},
   "source": [
    "# Set arm motors to starting position"
   ]
  },
  {
   "cell_type": "code",
   "execution_count": null,
   "metadata": {},
   "outputs": [],
   "source": [
    "print(\"Setting arm motors to position 0...\")\n",
    "motor_left_arm.run_to_position(0)\n",
    "motor_right_arm.run_to_position(0)\n",
    "print(\"DONE!\")"
   ]
  },
  {
   "cell_type": "markdown",
   "metadata": {},
   "source": [
    "# Configure sensor"
   ]
  },
  {
   "cell_type": "code",
   "execution_count": null,
   "metadata": {},
   "outputs": [],
   "source": [
    "print(\"Configuring distance sensor...\")\n",
    "distance_sensor = DistanceSensor('D')\n",
    "distance_sensor.light_up_all()\n",
    "print(\"DONE!\")"
   ]
  },
  {
   "cell_type": "markdown",
   "metadata": {},
   "source": [
    "# High five!"
   ]
  },
  {
   "cell_type": "code",
   "execution_count": null,
   "metadata": {},
   "outputs": [],
   "source": [
    "print(\"Waiting for high five intention...\")\n",
    "distance_sensor.wait_for_distance_closer_than(12, unit='cm')\n",
    "distance_sensor.light_up_all(0)\n",
    "print(\"DONE!\")"
   ]
  },
  {
   "cell_type": "code",
   "execution_count": null,
   "metadata": {},
   "outputs": [],
   "source": [
    "print(\"Let's high five!\")\n",
    "motor_right_arm.run_for_degrees(-120)\n",
    "\n",
    "timer = Timer()\n",
    "\n",
    "def high_five_or_no_high_five():\n",
    "    # Original threshold of speed is -10.\n",
    "    # However, in my experience, -5 worked better.\n",
    "    return (motor_right_arm.get_speed() < -5) or (timer.now() > 5)\n",
    "\n",
    "# Wait for either a high five or for the timer to go past 5 s.\n",
    "wait_until(high_five_or_no_high_five)\n",
    "\n",
    "# If the timer exceeded 5, it means that there was no high five.\n",
    "if timer.now() > 5:\n",
    "    print(\"No high five :( \")\n",
    "    hub.light_matrix.show_image('SAD')\n",
    "    app.play_sound('Lose')\n",
    "    motor_right_arm.run_to_position(0, direction='shortest path')\n",
    "    motors_wheels.move(-20, unit='cm')\n",
    "\n",
    "# Otherwise, it means that there was a high five.\n",
    "else:\n",
    "    print(\"High five :) \")\n",
    "    hub.light_matrix.show_image('HAPPY')\n",
    "    app.play_sound('Crazy Laugh')\n",
    "    motor_right_arm.run_to_position(0, direction='shortest path')"
   ]
  },
  {
   "cell_type": "code",
   "execution_count": null,
   "metadata": {},
   "outputs": [],
   "source": [
    "print(\"-\"*15 + \" Execution ended \" + \"-\"*15 + \"\\n\")"
   ]
  }
 ],
 "metadata": {
  "jupytext": {
   "formats": "ipynb,py:percent"
  },
  "kernelspec": {
   "display_name": "Python 3",
   "language": "python",
   "name": "python3"
  },
  "language_info": {
   "codemirror_mode": {
    "name": "ipython",
    "version": 3
   },
   "file_extension": ".py",
   "mimetype": "text/x-python",
   "name": "python",
   "nbconvert_exporter": "python",
   "pygments_lexer": "ipython3",
   "version": "3.8.5"
  }
 },
 "nbformat": 4,
 "nbformat_minor": 4
}
