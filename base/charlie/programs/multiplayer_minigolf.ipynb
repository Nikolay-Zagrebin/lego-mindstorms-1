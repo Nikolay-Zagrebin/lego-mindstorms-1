{
 "cells": [
  {
   "cell_type": "markdown",
   "metadata": {},
   "source": [
    "\n",
    "<p align=\"center\">\n",
    " <img width=\"100%\" src=\"../../../multimedia/mindstorms_51515_logo.png\">\n",
    "</p>\n",
    "\n",
    "# `multiplayer_minigolf`\n",
    "Python equivalent of the `Multiplayer mini-golf` program. Take turns to help Charlie score!\n",
    "\n",
    "# Required robot\n",
    "* Charlie (with mini-golf set)\n",
    "\n",
    "<img src=\"../multimedia/charlie_minigolf.jpg\" width=\"50%\" align=\"center\">\n",
    "\n",
    "# Source code\n",
    "You can find the code in the accompanying [`.py` file](https://github.com/arturomoncadatorres/lego-mindstorms/blob/main/base/charlie/programs/multiplayer_minigolf.py). To get it running, simply copy and paste it in a new Mindstorms project.\n",
    "\n",
    "# Imports"
   ]
  },
  {
   "cell_type": "code",
   "execution_count": null,
   "metadata": {},
   "outputs": [],
   "source": [
    "from mindstorms import MSHub, Motor, MotorPair, ColorSensor, DistanceSensor, App\n",
    "from mindstorms.control import wait_for_seconds, wait_until, Timer\n",
    "from mindstorms.operator import greater_than, greater_than_or_equal_to, less_than, less_than_or_equal_to, equal_to, not_equal_to\n",
    "import math"
   ]
  },
  {
   "cell_type": "markdown",
   "metadata": {},
   "source": [
    "# Initialization"
   ]
  },
  {
   "cell_type": "code",
   "execution_count": null,
   "metadata": {},
   "outputs": [],
   "source": [
    "print(\"-\"*15 + \" Execution started \" + \"-\"*15 + \"\\n\")"
   ]
  },
  {
   "cell_type": "code",
   "execution_count": null,
   "metadata": {},
   "outputs": [],
   "source": [
    "hub = MSHub()\n",
    "app = App()"
   ]
  },
  {
   "cell_type": "code",
   "execution_count": null,
   "metadata": {},
   "outputs": [],
   "source": [
    "hub.status_light.on('black')"
   ]
  },
  {
   "cell_type": "markdown",
   "metadata": {},
   "source": [
    "# Configure motors"
   ]
  },
  {
   "cell_type": "code",
   "execution_count": null,
   "metadata": {},
   "outputs": [],
   "source": [
    "print(\"Configuring motors...\")\n",
    "motor_wheel = Motor('E') # Wheel (for turning around)\n",
    "motor_left_arm = Motor('B') # Left arm\n",
    "motor_left_arm.set_default_speed(-80)\n",
    "print(\"DONE!\")"
   ]
  },
  {
   "cell_type": "code",
   "execution_count": null,
   "metadata": {},
   "outputs": [],
   "source": [
    "print(\"Setting arm motor to initial position...\")\n",
    "motor_left_arm.run_for_seconds(1)\n",
    "print(\"DONE!\")"
   ]
  },
  {
   "cell_type": "markdown",
   "metadata": {},
   "source": [
    "# Configure sensor"
   ]
  },
  {
   "cell_type": "code",
   "execution_count": null,
   "metadata": {},
   "outputs": [],
   "source": [
    "print(\"Configuring color sensor...\")\n",
    "color_sensor = ColorSensor('C')\n",
    "print(\"DONE!\")"
   ]
  },
  {
   "cell_type": "markdown",
   "metadata": {},
   "source": [
    "# Hit ball"
   ]
  },
  {
   "cell_type": "code",
   "execution_count": null,
   "metadata": {
    "lines_to_next_cell": 2
   },
   "outputs": [],
   "source": [
    "while(True):\n",
    "\n",
    "    print(\"Waiting for color confirmation...\")\n",
    "    wait_until(color_sensor.get_color, equal_to, 'red')\n",
    "    print(\"DONE!\")\n",
    "\n",
    "    print(\"Hitting ball...\")\n",
    "    motor_left_arm.run_for_degrees(-235)\n",
    "    motor_left_arm.run_for_seconds(1)\n",
    "\n",
    "    hub.light_matrix.show_image('HAPPY')\n",
    "    motor_wheel.run_for_degrees(880) # We can change this value to adjust for turn between shots.\n",
    "    hub.light_matrix.off()\n",
    "    \n",
    "    print(\"DONE!\")"
   ]
  },
  {
   "cell_type": "markdown",
   "metadata": {},
   "source": [
    "Notice that since hitting the ball activity is inside an infinite loop,\n",
    "we will never reach the following line."
   ]
  },
  {
   "cell_type": "code",
   "execution_count": null,
   "metadata": {},
   "outputs": [],
   "source": [
    "print(\"-\"*15 + \" Execution ended \" + \"-\"*15 + \"\\n\")"
   ]
  }
 ],
 "metadata": {
  "jupytext": {
   "formats": "ipynb,py:percent"
  },
  "kernelspec": {
   "display_name": "Python 3",
   "language": "python",
   "name": "python3"
  },
  "language_info": {
   "codemirror_mode": {
    "name": "ipython",
    "version": 3
   },
   "file_extension": ".py",
   "mimetype": "text/x-python",
   "name": "python",
   "nbconvert_exporter": "python",
   "pygments_lexer": "ipython3",
   "version": "3.8.5"
  }
 },
 "nbformat": 4,
 "nbformat_minor": 4
}
