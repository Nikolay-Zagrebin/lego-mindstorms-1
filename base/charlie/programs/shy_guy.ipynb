{
 "cells": [
  {
   "cell_type": "markdown",
   "metadata": {},
   "source": [
    "\n",
    "<p align=\"center\">\n",
    " <img width=\"100%\" src=\"../../../multimedia/mindstorms_51515_logo.png\">\n",
    "</p>\n",
    "\n",
    "# `shy_guy`\n",
    "Python equivalent of the `Shy guy` program. Charlie can be quite shy sometimes!\n",
    "\n",
    "# Required robot\n",
    "* Charlie (with distance sensor)\n",
    "\n",
    "<img src=\"../multimedia/charlie_distance.png\" width=\"50%\" align=\"center\">\n",
    "\n",
    "# Source code\n",
    "You can find the code in the accompanying [`.py` file](https://github.com/arturomoncadatorres/lego-mindstorms/blob/main/base/charlie/programs/shy_guy.py). To get it running, simply copy and paste it in a new Mindstorms project.\n",
    "\n",
    "# Imports"
   ]
  },
  {
   "cell_type": "code",
   "execution_count": null,
   "metadata": {},
   "outputs": [],
   "source": [
    "from mindstorms import MSHub, Motor, MotorPair, ColorSensor, DistanceSensor, App\n",
    "from mindstorms.control import wait_for_seconds, wait_until, Timer\n",
    "from mindstorms.operator import greater_than, greater_than_or_equal_to, less_than, less_than_or_equal_to, equal_to, not_equal_to\n",
    "import math"
   ]
  },
  {
   "cell_type": "markdown",
   "metadata": {},
   "source": [
    "# Initialization"
   ]
  },
  {
   "cell_type": "code",
   "execution_count": null,
   "metadata": {},
   "outputs": [],
   "source": [
    "print(\"-\"*15 + \" Execution started \" + \"-\"*15 + \"\\n\")"
   ]
  },
  {
   "cell_type": "code",
   "execution_count": null,
   "metadata": {},
   "outputs": [],
   "source": [
    "hub = MSHub()\n",
    "app = App()"
   ]
  },
  {
   "cell_type": "code",
   "execution_count": null,
   "metadata": {
    "lines_to_next_cell": 2
   },
   "outputs": [],
   "source": [
    "hub.status_light.on('black')\n",
    "hub.light_matrix.show_image('SILLY')"
   ]
  },
  {
   "cell_type": "markdown",
   "metadata": {},
   "source": [
    "# Configure motors"
   ]
  },
  {
   "cell_type": "code",
   "execution_count": null,
   "metadata": {},
   "outputs": [],
   "source": [
    "print(\"Configuring motors...\")\n",
    "motors_wheels = MotorPair('A', 'E')\n",
    "motors_wheels.set_default_speed(80)\n",
    "\n",
    "motor_left_arm = Motor('B') # Left arm\n",
    "motor_right_arm = Motor('F') # Right arm\n",
    "\n",
    "motor_left_arm.set_default_speed(75)\n",
    "motor_right_arm.set_default_speed(-75)\n",
    "\n",
    "motors_arms = MotorPair('B', 'F')\n",
    "print(\"DONE!\")"
   ]
  },
  {
   "cell_type": "markdown",
   "metadata": {},
   "source": [
    "# Set arm motors to starting position"
   ]
  },
  {
   "cell_type": "code",
   "execution_count": null,
   "metadata": {},
   "outputs": [],
   "source": [
    "print(\"Setting arm motors to position 0...\")\n",
    "motor_left_arm.run_to_position(0)\n",
    "motor_right_arm.run_to_position(0)\n",
    "print(\"DONE!\")"
   ]
  },
  {
   "cell_type": "markdown",
   "metadata": {},
   "source": [
    "# Make Charlie shy"
   ]
  },
  {
   "cell_type": "code",
   "execution_count": null,
   "metadata": {},
   "outputs": [],
   "source": [
    "# Initialize the distance sensor.\n",
    "print(\"Initializing the distance sensor...\")\n",
    "distance_sensor = DistanceSensor('D')\n",
    "print(\"DONE!\")"
   ]
  },
  {
   "cell_type": "code",
   "execution_count": null,
   "metadata": {},
   "outputs": [],
   "source": [
    "# Turn on the lights of the distance sensor.\n",
    "print(\"Turning on the distance sensor...\")\n",
    "distance_sensor.light_up_all(100)\n",
    "print(\"DONE!\")"
   ]
  },
  {
   "cell_type": "markdown",
   "metadata": {},
   "source": [
    "Define Charlie's shy reaction."
   ]
  },
  {
   "cell_type": "code",
   "execution_count": null,
   "metadata": {
    "lines_to_next_cell": 2
   },
   "outputs": [],
   "source": [
    "while True:\n",
    "\n",
    "    # Get distance measurement.\n",
    "    distance = distance_sensor.get_distance_cm()\n",
    "    print(\"Distance measurement: \" + str(distance) + \" cm\")\n",
    "\n",
    "    # We need to make sure that Charlie reacts only when he perceives a distance.\n",
    "    # To do so, we check what distance Charlie perceived. If he didn't perceive\n",
    "    # a distance, distance_sensor.get_distance_cm() returns None.\n",
    "    if not distance == None:\n",
    "\n",
    "        # Charlie will get embarrassed if you get closer than 30 cm\n",
    "        # For now, I defined this distance as 15 cm for testing purposes.\n",
    "        distance_threshold = 15\n",
    "        if distance < distance_threshold:\n",
    "\n",
    "            print(\"Charlie is embarrassed! (distance = \" + str(distance) + \" cm)\")\n",
    "\n",
    "            # Turn off the lights of the distance sensor.\n",
    "            print(\"Turning off the distance sensor...\")\n",
    "            distance_sensor.light_up_all(0)\n",
    "            print(\"DONE!\")\n",
    "\n",
    "            # Charlie runs away out of shyness.\n",
    "            print(\"Charlie is running away!\")        \n",
    "            hub.light_matrix.show_image('CONFUSED')\n",
    "            app.start_sound('Cuckoo')\n",
    "\n",
    "            \n",
    "            motors_arms.move(-90, unit='degrees')\n",
    "\n",
    "            motors_wheels.move(-15, unit='cm')\n",
    "            motors_wheels.move(20, unit='cm', steering=100)\n",
    "\n",
    "            app.start_sound('Cuckoo')\n",
    "\n",
    "            motors_wheels.move(30, unit='cm')\n",
    "            motors_wheels.move(20, unit='cm', steering=100)\n",
    "\n",
    "            app.start_sound('Cuckoo')\n",
    "\n",
    "            motors_arms.move(90, unit='degrees')\n",
    "            print(\"DONE!\")\n",
    "\n",
    "        print(\"Turning on the distance sensor (again)...\")\n",
    "        distance_sensor.light_up_all()\n",
    "        print(\"DONE!\")"
   ]
  },
  {
   "cell_type": "markdown",
   "metadata": {},
   "source": [
    "Notice, though, how we will never reach the following line, since the execution of the program is in a `while True`."
   ]
  },
  {
   "cell_type": "code",
   "execution_count": null,
   "metadata": {},
   "outputs": [],
   "source": [
    "print(\"-\"*15 + \" Execution ended \" + \"-\"*15 + \"\\n\")"
   ]
  }
 ],
 "metadata": {
  "jupytext": {
   "formats": "ipynb,py:percent"
  },
  "kernelspec": {
   "display_name": "Python 3",
   "language": "python",
   "name": "python3"
  },
  "language_info": {
   "codemirror_mode": {
    "name": "ipython",
    "version": 3
   },
   "file_extension": ".py",
   "mimetype": "text/x-python",
   "name": "python",
   "nbconvert_exporter": "python",
   "pygments_lexer": "ipython3",
   "version": "3.8.5"
  }
 },
 "nbformat": 4,
 "nbformat_minor": 4
}
