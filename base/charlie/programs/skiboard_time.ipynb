{
 "cells": [
  {
   "cell_type": "markdown",
   "metadata": {},
   "source": [
    "\n",
    "<p align=\"center\">\n",
    " <img width=\"100%\" src=\"../../../multimedia/mindstorms_51515_logo.png\">\n",
    "</p>\n",
    "\n",
    "# `skiboard_time`\n",
    "Python equivalent of the `Skiboard time` program. Charlie goes skiing on his board.\n",
    "\n",
    "# Required robot\n",
    "* Charlie (with skiboard and poles)\n",
    "\n",
    "<img src=\"../multimedia/charlie_skiboard.jpg\" width=\"50%\" align=\"center\">\n",
    "\n",
    "# Source code\n",
    "You can find the code in the accompanying [`.py` file](https://github.com/arturomoncadatorres/lego-mindstorms/blob/main/base/charlie/programs/skiboard_time.py). To get it running, simply copy and paste it in a new Mindstorms project.\n",
    "\n",
    "# Imports"
   ]
  },
  {
   "cell_type": "code",
   "execution_count": null,
   "metadata": {},
   "outputs": [],
   "source": [
    "from mindstorms import MSHub, Motor, MotorPair, ColorSensor, DistanceSensor, App\n",
    "from mindstorms.control import wait_for_seconds, wait_until, Timer\n",
    "from mindstorms.operator import greater_than, greater_than_or_equal_to, less_than, less_than_or_equal_to, equal_to, not_equal_to\n",
    "import math"
   ]
  },
  {
   "cell_type": "markdown",
   "metadata": {},
   "source": [
    "# Initialization"
   ]
  },
  {
   "cell_type": "code",
   "execution_count": null,
   "metadata": {},
   "outputs": [],
   "source": [
    "print(\"-\"*15 + \" Execution started \" + \"-\"*15 + \"\\n\")"
   ]
  },
  {
   "cell_type": "code",
   "execution_count": null,
   "metadata": {},
   "outputs": [],
   "source": [
    "hub = MSHub()\n",
    "app = App()"
   ]
  },
  {
   "cell_type": "code",
   "execution_count": null,
   "metadata": {},
   "outputs": [],
   "source": [
    "hub.status_light.on('black')"
   ]
  },
  {
   "cell_type": "markdown",
   "metadata": {},
   "source": [
    "# Configure motors"
   ]
  },
  {
   "cell_type": "code",
   "execution_count": null,
   "metadata": {},
   "outputs": [],
   "source": [
    "print(\"Configuring motors...\")\n",
    "motor_left_arm = Motor('B') # Left arm\n",
    "motor_right_arm = Motor('F') # Right arm\n",
    "motors_arms = MotorPair('B', 'F')\n",
    "\n",
    "motor_left_arm.set_default_speed(-100)\n",
    "motor_right_arm.set_default_speed(100)\n",
    "print(\"DONE!\")"
   ]
  },
  {
   "cell_type": "markdown",
   "metadata": {},
   "source": [
    "# Set arm motors to starting position"
   ]
  },
  {
   "cell_type": "code",
   "execution_count": null,
   "metadata": {
    "lines_to_next_cell": 2
   },
   "outputs": [],
   "source": [
    "print(\"Setting arm motors to position 0...\")\n",
    "motor_left_arm.run_to_position(0)\n",
    "motor_right_arm.run_to_position(0)\n",
    "print(\"DONE!\")"
   ]
  },
  {
   "cell_type": "markdown",
   "metadata": {},
   "source": [
    "# Make Charlie push himself around\n",
    "If Charlie doesn't move properly, try:\n",
    "* adjusting the wheels on his poles\n",
    "* playing with the waiting time between movement of the right arm (`t_wait`)\n",
    "* putting him on another surface"
   ]
  },
  {
   "cell_type": "code",
   "execution_count": null,
   "metadata": {
    "lines_to_next_cell": 2
   },
   "outputs": [],
   "source": [
    "print(\"Skiing...\")\n",
    "\n",
    "# Original value is 6.\n",
    "# I set this to 3 due to space constraints.\n",
    "n_pushes = 3\n",
    "\n",
    "for ii in range(0, n_pushes):\n",
    "\n",
    "    # Now, we move the arm motors back to position 0 sequentially.\n",
    "    # This doesn't affect the movement, but looks a bit clumsy.\n",
    "    # An alternative to this could be using coroutines to \n",
    "    # make them run \"parallel\", as in the drum_solo project.\n",
    "    motor_left_arm.run_to_position(0, direction='shortest path')\n",
    "    motor_right_arm.run_to_position(0, direction='shortest path')\n",
    "    motors_arms.move(85, unit='degrees')\n",
    "\n",
    "    motor_right_arm.start()\n",
    "    t_wait = 0.1\n",
    "    wait_for_seconds(t_wait)\n",
    "    motor_right_arm.stop()\n",
    "\n",
    "motor_left_arm.run_to_position(0, direction='shortest path')\n",
    "motor_right_arm.run_to_position(0, direction='shortest path')\n",
    "\n",
    "app.play_sound('Skid')\n",
    "\n",
    "print(\"DONE!\")"
   ]
  },
  {
   "cell_type": "code",
   "execution_count": null,
   "metadata": {},
   "outputs": [],
   "source": [
    "print(\"-\"*15 + \" Execution ended \" + \"-\"*15 + \"\\n\")"
   ]
  }
 ],
 "metadata": {
  "jupytext": {
   "formats": "ipynb,py:percent"
  },
  "kernelspec": {
   "display_name": "Python 3",
   "language": "python",
   "name": "python3"
  },
  "language_info": {
   "codemirror_mode": {
    "name": "ipython",
    "version": 3
   },
   "file_extension": ".py",
   "mimetype": "text/x-python",
   "name": "python",
   "nbconvert_exporter": "python",
   "pygments_lexer": "ipython3",
   "version": "3.8.5"
  }
 },
 "nbformat": 4,
 "nbformat_minor": 4
}
