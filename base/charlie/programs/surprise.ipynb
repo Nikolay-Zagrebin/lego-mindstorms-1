{
 "cells": [
  {
   "cell_type": "markdown",
   "metadata": {},
   "source": [
    "\n",
    "<p align=\"center\">\n",
    " <img width=\"100%\" src=\"../../../multimedia/mindstorms_51515_logo.png\">\n",
    "</p>\n",
    "\n",
    "# `surprise`\n",
    "Python equivalent of the `Surprise!` program. If you show roaming Charlie his favorite color, he will give you a surprise!\n",
    "\n",
    "# Required robot\n",
    "* Charlie (with color *and* distance sensor, as well as his buddies)\n",
    "\n",
    "<img src=\"../multimedia/charlie_surprise.jpg\" width=\"50%\" align=\"center\">\n",
    "\n",
    "# Source code\n",
    "You can find the code in the accompanying [`.py` file](https://github.com/arturomoncadatorres/lego-mindstorms/blob/main/base/charlie/programs/surprise.py). To get it running, simply copy and paste it in a new Mindstorms project.\n",
    "\n",
    "# Imports"
   ]
  },
  {
   "cell_type": "code",
   "execution_count": null,
   "metadata": {},
   "outputs": [],
   "source": [
    "from mindstorms import MSHub, Motor, MotorPair, ColorSensor, DistanceSensor, App\n",
    "from mindstorms.control import wait_for_seconds, wait_until, Timer\n",
    "from mindstorms.operator import greater_than, greater_than_or_equal_to, less_than, less_than_or_equal_to, equal_to, not_equal_to\n",
    "import math"
   ]
  },
  {
   "cell_type": "code",
   "execution_count": null,
   "metadata": {},
   "outputs": [],
   "source": [
    "import random # Needed to generate random numbers"
   ]
  },
  {
   "cell_type": "markdown",
   "metadata": {},
   "source": [
    "# Initialization"
   ]
  },
  {
   "cell_type": "code",
   "execution_count": null,
   "metadata": {},
   "outputs": [],
   "source": [
    "print(\"-\"*15 + \" Execution started \" + \"-\"*15 + \"\\n\")"
   ]
  },
  {
   "cell_type": "code",
   "execution_count": null,
   "metadata": {},
   "outputs": [],
   "source": [
    "hub = MSHub()\n",
    "app = App()"
   ]
  },
  {
   "cell_type": "code",
   "execution_count": null,
   "metadata": {},
   "outputs": [],
   "source": [
    "hub.status_light.on('black')"
   ]
  },
  {
   "cell_type": "markdown",
   "metadata": {},
   "source": [
    "# Configure motors"
   ]
  },
  {
   "cell_type": "code",
   "execution_count": null,
   "metadata": {},
   "outputs": [],
   "source": [
    "print(\"Configuring motors...\")\n",
    "motor_left_arm = Motor('B') # Left arm\n",
    "motor_right_arm = Motor('F') # Right arm\n",
    "motors_arms = MotorPair('B', 'F')\n",
    "motors_wheels = MotorPair('A', 'E')\n",
    "print(\"DONE!\")"
   ]
  },
  {
   "cell_type": "markdown",
   "metadata": {},
   "source": [
    "# Set arm motors to starting position"
   ]
  },
  {
   "cell_type": "code",
   "execution_count": null,
   "metadata": {},
   "outputs": [],
   "source": [
    "print(\"Setting arm motors to position 0...\")\n",
    "motor_left_arm.run_to_position(0)\n",
    "motor_right_arm.run_to_position(0)\n",
    "print(\"DONE!\")"
   ]
  },
  {
   "cell_type": "markdown",
   "metadata": {},
   "source": [
    "# Configure sensor"
   ]
  },
  {
   "cell_type": "code",
   "execution_count": null,
   "metadata": {
    "lines_to_next_cell": 2
   },
   "outputs": [],
   "source": [
    "print(\"Configuring sensors...\")\n",
    "color_sensor = ColorSensor('C')\n",
    "\n",
    "distance_sensor = DistanceSensor('D')\n",
    "distance_sensor.light_up_all()\n",
    "print(\"DONE!\")"
   ]
  },
  {
   "cell_type": "markdown",
   "metadata": {},
   "source": [
    "# Make Charlie roam around"
   ]
  },
  {
   "cell_type": "code",
   "execution_count": null,
   "metadata": {},
   "outputs": [],
   "source": [
    "print(\"Roaming...\")\n",
    "\n",
    "# While testing, it can be quite annoying having Charlie moving around.\n",
    "# If you wish, you can just comment the following line. This way,\n",
    "# Charlie will stay still while you test your program.\n",
    "motors_wheels.start()"
   ]
  },
  {
   "cell_type": "markdown",
   "metadata": {},
   "source": [
    "# Define distance function\n",
    "As part of the program, we need to continuously check if the\n",
    "measured distance is less than 25 cm. However, if the\n",
    "sensor reads no measure, it will return a `None`, which\n",
    "in turn will generate an error (since we cannot do a comparision\n",
    "between a `None` and something else).\n",
    "\n",
    "To solve this, we will define our own cuestom distance function.\n",
    "This way, when the sensor has no reading, we will just return\n",
    "a (simulated) very long distance (instead of returning a `None`).\n",
    "This will allow us to do the comparision."
   ]
  },
  {
   "cell_type": "code",
   "execution_count": null,
   "metadata": {},
   "outputs": [],
   "source": [
    "def my_get_distance_cm():\n",
    "    \"\"\"\n",
    "    Parameters\n",
    "    ----------\n",
    "    None\n",
    "        \n",
    "    Returns\n",
    "    -------\n",
    "    dist:\n",
    "        Distance value (in cm).\n",
    "        If the sensor returns a None, it returns a very large value (1000).\n",
    "    \"\"\"\n",
    "    distance = distance_sensor.get_distance_cm()\n",
    "    if distance == None:\n",
    "        distance = 1000\n",
    "        \n",
    "    return distance"
   ]
  },
  {
   "cell_type": "markdown",
   "metadata": {
    "lines_to_next_cell": 2
   },
   "source": [
    "We can now move on with the rest of the program\n",
    "\n",
    "# Check for sensor inputs\n",
    "We need to constantly check for two conditions: \n",
    "the color and the distance. The original Scratch program\n",
    "uses a `wait_until` block. However, doing so blocks checking\n",
    "all other inputs. Thus, we will do the implementation here slightly different."
   ]
  },
  {
   "cell_type": "code",
   "execution_count": null,
   "metadata": {
    "lines_to_next_cell": 2
   },
   "outputs": [],
   "source": [
    "while True:\n",
    "\n",
    "    # Check for color.\n",
    "    color = color_sensor.get_color()\n",
    "    if color == 'red':\n",
    "        print('Red color detected!')\n",
    "\n",
    "        # This break will get us out of the while loop.\n",
    "        break\n",
    "\n",
    "    # Check for distance.\n",
    "    distance = my_get_distance_cm()\n",
    "    if distance < 25:\n",
    "        print(\"Distance sensor triggered!\")\n",
    "\n",
    "        print(\"Generating random number...\")\n",
    "        random_number = random.randint(1, 3)\n",
    "        print(\"Randon number = \" + str(random_number) + \". Turning...\")\n",
    "\n",
    "        # Define behaviour of each random number.\n",
    "        if random_number == 1:\n",
    "            motors_wheels.move(10, unit='cm', steering=100)\n",
    "        elif random_number == 2:\n",
    "            motors_wheels.move(10, unit='cm', steering=-100)\n",
    "        elif random_number == 3:\n",
    "            motors_wheels.move(20, unit='cm', steering=100)\n",
    "\n",
    "        else:\n",
    "            # It is good practice to cover all possible cases.\n",
    "            # Here, we make sure that if the generated random number\n",
    "            # wasn't expected, we send a notification to the user.\n",
    "            # With the current program, we should never reach this case.\n",
    "            print(\"Invalid randon number. Doing nothing.\")\n",
    "\n",
    "        print(\"DONE!\")"
   ]
  },
  {
   "cell_type": "markdown",
   "metadata": {},
   "source": [
    "# Make Charlie respond to color\n",
    "If red was detected, we get out of the while loop and execute the following code.\n",
    "In other words, this is Charlie's response to the color."
   ]
  },
  {
   "cell_type": "code",
   "execution_count": null,
   "metadata": {},
   "outputs": [],
   "source": [
    "# Stop movement.\n",
    "motors_wheels.stop()"
   ]
  },
  {
   "cell_type": "code",
   "execution_count": null,
   "metadata": {},
   "outputs": [],
   "source": [
    "hub.light_matrix.show_image('HAPPY')\n",
    "app.play_sound('Doorbell 1')"
   ]
  },
  {
   "cell_type": "code",
   "execution_count": null,
   "metadata": {},
   "outputs": [],
   "source": [
    "# Open and close Charlie's hatch.\n",
    "motor_right_arm.run_for_seconds(1)\n",
    "wait_for_seconds(3)\n",
    "app.play_sound('Tada')\n",
    "motor_right_arm.run_to_position(0, direction='counterclockwise')\n",
    "wait_for_seconds(3)"
   ]
  },
  {
   "cell_type": "code",
   "execution_count": null,
   "metadata": {},
   "outputs": [],
   "source": [
    "# Turn off everything.\n",
    "distance_sensor.light_up_all(0)\n",
    "color_sensor.light_up_all(0)"
   ]
  },
  {
   "cell_type": "code",
   "execution_count": null,
   "metadata": {},
   "outputs": [],
   "source": [
    "print(\"-\"*15 + \" Execution ended \" + \"-\"*15 + \"\\n\")"
   ]
  }
 ],
 "metadata": {
  "jupytext": {
   "formats": "ipynb,py:percent"
  },
  "kernelspec": {
   "display_name": "Python 3",
   "language": "python",
   "name": "python3"
  },
  "language_info": {
   "codemirror_mode": {
    "name": "ipython",
    "version": 3
   },
   "file_extension": ".py",
   "mimetype": "text/x-python",
   "name": "python",
   "nbconvert_exporter": "python",
   "pygments_lexer": "ipython3",
   "version": "3.8.5"
  }
 },
 "nbformat": 4,
 "nbformat_minor": 4
}
