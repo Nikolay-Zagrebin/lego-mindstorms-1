{
 "cells": [
  {
   "cell_type": "markdown",
   "metadata": {},
   "source": [
    "\n",
    "<p align=\"center\">\n",
    " <img width=\"100%\" src=\"../../../multimedia/mindstorms_51515_logo.png\">\n",
    "</p>\n",
    "\n",
    "# `up_in_arms`\n",
    "Python equivalent of the `Up in arms` program. Charlie waits to be tapped. When tapped, he raises his hands, says hi, and lowers his hands.\n",
    "\n",
    "# Required robot\n",
    "* Charlie\n",
    "\n",
    "<img src=\"../multimedia/charlie.png\" width=\"50%\" align=\"center\">\n",
    "\n",
    "# Source code\n",
    "You can find the code in the accompanying [`.py` file](https://github.com/arturomoncadatorres/lego-mindstorms/blob/main/base/charlie/programs/up_in_arms.py). To get it running, simply copy and paste it in a new Mindstorms project.\n",
    "\n",
    "# Imports"
   ]
  },
  {
   "cell_type": "code",
   "execution_count": null,
   "metadata": {},
   "outputs": [],
   "source": [
    "from mindstorms import MSHub, Motor, MotorPair, ColorSensor, DistanceSensor, App\n",
    "from mindstorms.control import wait_for_seconds, wait_until, Timer\n",
    "from mindstorms.operator import greater_than, greater_than_or_equal_to, less_than, less_than_or_equal_to, equal_to, not_equal_to\n",
    "import math"
   ]
  },
  {
   "cell_type": "markdown",
   "metadata": {},
   "source": [
    "# Initialization"
   ]
  },
  {
   "cell_type": "code",
   "execution_count": null,
   "metadata": {},
   "outputs": [],
   "source": [
    "print(\"-\"*15 + \" Execution started \" + \"-\"*15 + \"\\n\")"
   ]
  },
  {
   "cell_type": "code",
   "execution_count": null,
   "metadata": {},
   "outputs": [],
   "source": [
    "hub = MSHub()\n",
    "app = App()"
   ]
  },
  {
   "cell_type": "markdown",
   "metadata": {},
   "source": [
    "# Start hue\n",
    "By turning its button off (i.e., setting its color to black) and displaying the asleep image"
   ]
  },
  {
   "cell_type": "code",
   "execution_count": null,
   "metadata": {},
   "outputs": [],
   "source": [
    "print(\"Turning center button off...\")\n",
    "hub.status_light.on('black')\n",
    "print(\"DONE!\")"
   ]
  },
  {
   "cell_type": "code",
   "execution_count": null,
   "metadata": {},
   "outputs": [],
   "source": [
    "print(\"Displaying asleep face...\")\n",
    "hub.light_matrix.show_image('ASLEEP')\n",
    "print(\"DONE!\")"
   ]
  },
  {
   "cell_type": "markdown",
   "metadata": {},
   "source": [
    "# Set motors to starting position\n",
    "In the original Scratch program, there's a `Charlie - Calibrate` block. I don't know exactly how the calibration is done, but in the end I think that it just sets the motor to position 0.\n",
    "Notice that moving motors to a specific position needs to be done individually (and sequentially). In other words, we cannot run a `MotorPair` to a position, only a single motor.\n"
   ]
  },
  {
   "cell_type": "code",
   "execution_count": null,
   "metadata": {},
   "outputs": [],
   "source": [
    "print(\"Setting motors to position 0...\")\n",
    "motor_b = Motor('B')\n",
    "motor_f = Motor('F')\n",
    "motor_b.run_to_position(0)\n",
    "motor_f.run_to_position(0)\n",
    "print(\"DONE!\")"
   ]
  },
  {
   "cell_type": "markdown",
   "metadata": {},
   "source": [
    "# Raise hands when tapped\n",
    "All through the execution, we will put pauses on different points to be able to see better what Charlie is doing."
   ]
  },
  {
   "cell_type": "code",
   "execution_count": null,
   "metadata": {},
   "outputs": [],
   "source": [
    "print(\"Waiting to be tapped...\")\n",
    "\n",
    "if hub.motion_sensor.wait_for_new_gesture() == 'tapped':\n",
    "    print(\"TAPPED!\")\n",
    "\n",
    "    print(\"Displaying surprised face...\")\n",
    "    hub.light_matrix.show_image('SURPRISED')\n",
    "    print(\"DONE!\")\n",
    "\n",
    "    wait_for_seconds(1)\n",
    "\n",
    "    print(\"Raise hands...\")\n",
    "    motor_pair = MotorPair('B', 'F')\n",
    "    motor_pair.set_default_speed(50)\n",
    "    motor_pair.move(-90, unit='degrees') # Negative angle raises the hands.\n",
    "    print(\"DONE!\")\n",
    "\n",
    "    print(\"Saying 'Hi!'...\")\n",
    "    app.play_sound('Robot 2', 75)\n",
    "    print(\"DONE!\")\n",
    "\n",
    "    wait_for_seconds(1)\n",
    "\n",
    "    print(\"Lower hands...\")\n",
    "    motor_pair.move(90, unit='degrees') # Positive angle lowers the hands.\n",
    "    print(\"DONE!\")\n",
    "\n",
    "    wait_for_seconds(1)\n",
    "\n",
    "    print(\"Displaying happy face...\")\n",
    "    hub.light_matrix.show_image('HAPPY')\n",
    "    print(\"DONE!\")"
   ]
  },
  {
   "cell_type": "code",
   "execution_count": null,
   "metadata": {},
   "outputs": [],
   "source": [
    "print(\"-\"*15 + \" Execution ended \" + \"-\"*15 + \"\\n\")"
   ]
  }
 ],
 "metadata": {
  "jupytext": {
   "formats": "ipynb,py:percent"
  },
  "kernelspec": {
   "display_name": "Python 3",
   "language": "python",
   "name": "python3"
  },
  "language_info": {
   "codemirror_mode": {
    "name": "ipython",
    "version": 3
   },
   "file_extension": ".py",
   "mimetype": "text/x-python",
   "name": "python",
   "nbconvert_exporter": "python",
   "pygments_lexer": "ipython3",
   "version": "3.8.5"
  }
 },
 "nbformat": 4,
 "nbformat_minor": 4
}
