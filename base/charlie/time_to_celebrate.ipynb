{
 "cells": [
  {
   "cell_type": "markdown",
   "metadata": {},
   "source": [
    "# `time_to_celebrate`\n",
    "Python equivalent of the `Time to celebrate` program. Makes Charlie dance.\n",
    "\n",
    "# Required robot\n",
    "* Charlie\n",
    "\n",
    "<img src=\"./multimedia/charlie.png\" width=\"50%\" align=\"center\">\n",
    "\n",
    "# Source code\n",
    "You can find the code in the accompanying [`.py` file](https://github.com/arturomoncadatorres/lego-mindstorms/blob/main/base/charlie/time_to_celebrate.py). To get it running, simply copy and paste it in a new Mindstorms project.\n",
    "\n",
    "# Imports"
   ]
  },
  {
   "cell_type": "code",
   "execution_count": null,
   "metadata": {},
   "outputs": [],
   "source": [
    "from mindstorms import MSHub, Motor, MotorPair, ColorSensor, DistanceSensor, App\n",
    "from mindstorms.control import wait_for_seconds, wait_until, Timer\n",
    "from mindstorms.operator import greater_than, greater_than_or_equal_to, less_than, less_than_or_equal_to, equal_to, not_equal_to\n",
    "import math"
   ]
  },
  {
   "cell_type": "markdown",
   "metadata": {},
   "source": [
    "# Initialization"
   ]
  },
  {
   "cell_type": "code",
   "execution_count": null,
   "metadata": {},
   "outputs": [],
   "source": [
    "hub = MSHub()\n",
    "app = App()"
   ]
  },
  {
   "cell_type": "code",
   "execution_count": null,
   "metadata": {},
   "outputs": [],
   "source": [
    "print(\"-\"*15 + \" Execution started \" + \"-\"*15 + \"\\n\")"
   ]
  },
  {
   "cell_type": "markdown",
   "metadata": {},
   "source": [
    "# Turn off center button \n",
    "By setting its color to black"
   ]
  },
  {
   "cell_type": "code",
   "execution_count": null,
   "metadata": {},
   "outputs": [],
   "source": [
    "print(\"Turning center button off...\")\n",
    "hub.status_light.on('black')\n",
    "print(\"DONE!\")"
   ]
  },
  {
   "cell_type": "markdown",
   "metadata": {},
   "source": [
    "# Display (happy) image"
   ]
  },
  {
   "cell_type": "code",
   "execution_count": null,
   "metadata": {
    "lines_to_next_cell": 2
   },
   "outputs": [],
   "source": [
    "print(\"Displaying happy face...\")\n",
    "hub.light_matrix.show_image('HAPPY')\n",
    "print(\"DONE!\")"
   ]
  },
  {
   "cell_type": "markdown",
   "metadata": {},
   "source": [
    "# Set arm motors to starting position\n",
    "In the original Scratch program, there's a `Charlie - Calibrate` block. I don't know exactly how the calibration is done, but in the end I think that it just sets the motor to position 0.\n",
    "Notice that moving motors to a specific position needs to be done individually (and sequentially). In other words, we cannot run a `MotorPair` to a position, only one motor at a time.\n"
   ]
  },
  {
   "cell_type": "code",
   "execution_count": null,
   "metadata": {},
   "outputs": [],
   "source": [
    "print(\"Setting arm motors to position 0...\")\n",
    "motor_b = Motor('B') # Left arm\n",
    "motor_f = Motor('F') # Right arm\n",
    "motor_b.run_to_position(0)\n",
    "motor_f.run_to_position(0)\n",
    "print(\"DONE!\")"
   ]
  },
  {
   "cell_type": "markdown",
   "metadata": {},
   "source": [
    "# Dance time!"
   ]
  },
  {
   "cell_type": "code",
   "execution_count": null,
   "metadata": {
    "lines_to_next_cell": 2
   },
   "outputs": [],
   "source": [
    "print(\"Dancing steps 1...\")\n",
    "\n",
    "app.start_sound('Party Blower')\n",
    "\n",
    "for ii in range(0,2):\n",
    "    motor_f.run_for_degrees(-100)\n",
    "    motor_f.run_for_degrees(100)\n",
    "\n",
    "    motor_b.run_for_degrees(100)\n",
    "    motor_b.run_for_degrees(-100)\n",
    "    \n",
    "print(\"DONE!\")"
   ]
  },
  {
   "cell_type": "code",
   "execution_count": null,
   "metadata": {
    "lines_to_next_cell": 2
   },
   "outputs": [],
   "source": [
    "print(\"Dancing steps 2...\")\n",
    "\n",
    "app.start_sound('Party Blower')\n",
    "\n",
    "motors_af = MotorPair('A', 'F')\n",
    "motors_be = MotorPair('B', 'E')\n",
    "\n",
    "\n",
    "for ii in range(0,2):\n",
    "\n",
    "    motors_af.move(-100, unit='degrees', steering=-100)\n",
    "    motors_af.move(100, unit='degrees', steering=-100)\n",
    "\n",
    "    motors_be.move(100, unit='degrees', steering=-100)\n",
    "    motors_be.move(-100, unit='degrees', steering=-100)\n",
    "\n",
    "print(\"DONE!\")"
   ]
  },
  {
   "cell_type": "code",
   "execution_count": null,
   "metadata": {
    "lines_to_next_cell": 2
   },
   "outputs": [],
   "source": [
    "print(\"Dancing steps 3...\")\n",
    "\n",
    "motors_motion = MotorPair('A', 'E')\n",
    "\n",
    "motors_motion.move(40, unit='cm', steering=100)\n",
    "motors_motion.move(40, unit='cm', steering=-100)\n",
    "\n",
    "# Open hatch\n",
    "motor_f.run_to_position(270, direction='counterclockwise')\n",
    "wait_for_seconds(1)\n",
    "motor_f.run_for_seconds(1)\n",
    "\n",
    "app.play_sound('Tada')\n",
    "\n",
    "motor_f.run_to_position(0, direction='counterclockwise')\n",
    "\n",
    "print(\"DONE!\")"
   ]
  },
  {
   "cell_type": "code",
   "execution_count": null,
   "metadata": {},
   "outputs": [],
   "source": [
    "print(\"-\"*15 + \" Execution ended \" + \"-\"*15 + \"\\n\")"
   ]
  }
 ],
 "metadata": {
  "jupytext": {
   "formats": "ipynb,py:percent"
  },
  "kernelspec": {
   "display_name": "Python 3",
   "language": "python",
   "name": "python3"
  },
  "language_info": {
   "codemirror_mode": {
    "name": "ipython",
    "version": 3
   },
   "file_extension": ".py",
   "mimetype": "text/x-python",
   "name": "python",
   "nbconvert_exporter": "python",
   "pygments_lexer": "ipython3",
   "version": "3.8.5"
  }
 },
 "nbformat": 4,
 "nbformat_minor": 4
}
