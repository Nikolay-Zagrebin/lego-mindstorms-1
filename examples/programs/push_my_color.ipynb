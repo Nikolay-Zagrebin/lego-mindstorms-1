{
 "cells": [
  {
   "cell_type": "markdown",
   "metadata": {},
   "source": [
    "# `push_my_color`\n",
    "Small game where the hub \"thinks\" of a random color and the player has to guess it\n",
    "by using the hub's buttons. The right button changes the color. The left button \n",
    "confirms the player's guess.\n",
    "\n",
    "# Required robot\n",
    "* Charlie (head). This is only because it looks nice. However, the bare hub should work just fine.\n",
    "\n",
    "<img src=\"../multimedia/charlie_head.png\" width=\"50%\" align=\"center\">\n",
    "\n",
    "# Source code\n",
    "You can find the code in the accompanying [`.py` file](https://github.com/arturomoncadatorres/lego-mindstorms/blob/main/examples/programs/push_my_color.py). To get it running, simply copy and paste it in a new Mindstorms project.\n",
    "\n",
    "# Imports"
   ]
  },
  {
   "cell_type": "code",
   "execution_count": null,
   "metadata": {},
   "outputs": [],
   "source": [
    "from mindstorms import MSHub, Motor, MotorPair, ColorSensor, DistanceSensor, App\n",
    "from mindstorms.control import wait_for_seconds, wait_until, Timer\n",
    "from mindstorms.operator import greater_than, greater_than_or_equal_to, less_than, less_than_or_equal_to, equal_to, not_equal_to\n",
    "import math"
   ]
  },
  {
   "cell_type": "code",
   "execution_count": null,
   "metadata": {},
   "outputs": [],
   "source": [
    "import random # Needed to generate random numbers"
   ]
  },
  {
   "cell_type": "markdown",
   "metadata": {},
   "source": [
    "# Initialization"
   ]
  },
  {
   "cell_type": "code",
   "execution_count": null,
   "metadata": {},
   "outputs": [],
   "source": [
    "print(\"-\"*15 + \" Execution started \" + \"-\"*15 + \"\\n\")"
   ]
  },
  {
   "cell_type": "code",
   "execution_count": null,
   "metadata": {},
   "outputs": [],
   "source": [
    "hub = MSHub()\n",
    "app = App()"
   ]
  },
  {
   "cell_type": "code",
   "execution_count": null,
   "metadata": {},
   "outputs": [],
   "source": [
    "# If we set the button color to black, we turn it off.\n",
    "hub.status_light.on('black')"
   ]
  },
  {
   "cell_type": "markdown",
   "metadata": {},
   "source": [
    "# Choose random color\n",
    "Black is a bit of a boring color, so we will exclude it as a possibility.\n",
    "The other possible colors are:\n",
    "<table><tr>\n",
    "<td> <img src=\"../multimedia/azure.jpeg\" alt=\"\" style=\"width: 100%;\"/> </td>\n",
    "<td> <img src=\"../multimedia/blue.jpeg\" alt=\"\" style=\"width: 100%;\"/> </td>\n",
    "<td> <img src=\"../multimedia/cyan.jpeg\" alt=\"\" style=\"width: 100%;\"/> </td>\n",
    "<td> <img src=\"../multimedia/green.jpeg\" alt=\"\" style=\"width: 100%;\"/> </td>\n",
    "<td> <img src=\"../multimedia/orange.jpeg\" alt=\"\" style=\"width: 100%;\"/> </td>\n",
    "<td> <img src=\"../multimedia/pink.jpeg\" alt=\"\" style=\"width: 100%;\"/> </td>\n",
    "<td> <img src=\"../multimedia/red.jpeg\" alt=\"\" style=\"width: 100%;\"/> </td>\n",
    "<td> <img src=\"../multimedia/violet.jpeg\" alt=\"\" style=\"width: 100%;\"/> </td>\n",
    "<td> <img src=\"../multimedia/yellow.jpeg\" alt=\"\" style=\"width: 100%;\"/> </td>\n",
    "<td> <img src=\"../multimedia/white.jpeg\" alt=\"\" style=\"width: 100%;\"/> </td>\n",
    "</tr>\n",
    "<tr>\n",
    "<td> azure </td>\n",
    "<td> blue </td>\n",
    "<td> cyan </td>\n",
    "<td> green </td>\n",
    "<td> orange </td>\n",
    "<td> pink </td>\n",
    "<td> red </td>\n",
    "<td> violet </td>\n",
    "<td> yellow </td>\n",
    "<td> white </td>\n",
    "</tr>\n",
    "</table>"
   ]
  },
  {
   "cell_type": "code",
   "execution_count": null,
   "metadata": {},
   "outputs": [],
   "source": [
    "colors = ['azure', 'blue', 'cyan', 'green' ,'orange', 'pink', 'red', 'violet', 'yellow', 'white']\n",
    "n_colors = len(colors)"
   ]
  },
  {
   "cell_type": "code",
   "execution_count": null,
   "metadata": {},
   "outputs": [],
   "source": [
    "print(\"Choosing a random color...\")\n",
    "idx = random.randint(0, n_colors-1)\n",
    "chosen_color = colors[idx]\n",
    "\n",
    "print(\"Chosen color is \" + chosen_color + \". Shhh, don't tell anyone!\")"
   ]
  },
  {
   "cell_type": "markdown",
   "metadata": {},
   "source": [
    "# Start the game\n",
    "We will keep track of which color to display using a counter.\n",
    "The counter will increment with each press of the right button.\n",
    "The actual index of the color list will be calculated using the\n",
    "mod operator (`%`). This allows us to always stay within a range\n",
    "of numbers, even if the counter keeps increasing."
   ]
  },
  {
   "cell_type": "code",
   "execution_count": null,
   "metadata": {},
   "outputs": [],
   "source": [
    "counter = 0\n",
    "guessed_color = colors[0]"
   ]
  },
  {
   "cell_type": "code",
   "execution_count": null,
   "metadata": {
    "lines_to_next_cell": 2
   },
   "outputs": [],
   "source": [
    "# We will loop as long as the user doesn't guess correctly.\n",
    "correct_guess = False\n",
    "while correct_guess == False:\n",
    "\n",
    "    # Convert the counter to an index of the colors list.\n",
    "    color_idx = counter % n_colors\n",
    "\n",
    "    # Turn on the button with the corresponding color.\n",
    "    hub.status_light.on(colors[color_idx])\n",
    "\n",
    "    if hub.right_button.was_pressed():\n",
    "        # If the right button was pressed, increase the counter by one\n",
    "        # and shift the color_idx.\n",
    "        counter += 1\n",
    "        color_idx = counter % n_colors\n",
    "        print(\"Right button changed color to \" + colors[color_idx] + \"(color_idx = \" + str(color_idx) + \"; counter = \" + str(counter) + \")\")\n",
    "\n",
    "    if hub.left_button.was_pressed():\n",
    "        # If the left button was pressed, save the current color as the player's guess.\n",
    "        guessed_color = colors[color_idx]\n",
    "        print(\"Guessed color is \" + guessed_color)\n",
    "\n",
    "        # Check if the player's guess was correct.\n",
    "        if guessed_color == chosen_color:\n",
    "\n",
    "            # If the user guessed the color, provide positive feedback.\n",
    "            # (S)he won!\n",
    "            app.start_sound('Tada')\n",
    "            hub.light_matrix.show_image('YES')\n",
    "            correct_guess = True # This makes sure we won't go through the loop again.\n",
    "\n",
    "            print(\"That is correct :) ! The chosen color was \" + guessed_color + \". You win!\")\n",
    "            \n",
    "\n",
    "        else:\n",
    "            # If the user didn't guess the color, provide negative feedback.\n",
    "            app.start_sound('Lose')\n",
    "            hub.light_matrix.show_image('NO')\n",
    "            wait_for_seconds(4)\n",
    "            hub.light_matrix.off()\n",
    "\n",
    "            # To make things easier for the player, we will remove the wrong\n",
    "            # color of the list, so it isn't displayed again.\n",
    "            colors.pop(color_idx)\n",
    "            n_colors = len(colors)\n",
    "\n",
    "            if color_idx == n_colors:\n",
    "                # If the guessed color was the last one, we will reset the counter,\n",
    "                # to make sure that the next color to be displayed is the first one.\n",
    "                counter = 0\n",
    "\n",
    "            else:\n",
    "                # If the guessed color wasn't the last one, we set the counter\n",
    "                # to the color index, to account for the removed color.\n",
    "                counter = color_idx\n",
    "\n",
    "            # Just for clarity.\n",
    "            correct_guess = False\n",
    "\n",
    "            print(\"That is incorrect :( . Color \" + guessed_color + \" was removed.\")"
   ]
  },
  {
   "cell_type": "code",
   "execution_count": null,
   "metadata": {},
   "outputs": [],
   "source": [
    "print(\"-\"*15 + \" Execution ended \" + \"-\"*15 + \"\\n\")"
   ]
  }
 ],
 "metadata": {
  "jupytext": {
   "formats": "ipynb,py:percent"
  },
  "kernelspec": {
   "display_name": "Python 3",
   "language": "python",
   "name": "python3"
  },
  "language_info": {
   "codemirror_mode": {
    "name": "ipython",
    "version": 3
   },
   "file_extension": ".py",
   "mimetype": "text/x-python",
   "name": "python",
   "nbconvert_exporter": "python",
   "pygments_lexer": "ipython3",
   "version": "3.8.5"
  }
 },
 "nbformat": 4,
 "nbformat_minor": 4
}
