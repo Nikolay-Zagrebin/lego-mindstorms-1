{
 "cells": [
  {
   "cell_type": "code",
   "execution_count": null,
   "metadata": {},
   "outputs": [],
   "source": [
    "from mindstorms import MSHub, Motor, MotorPair, ColorSensor, DistanceSensor, App\n",
    "from mindstorms.control import wait_for_seconds, wait_until, Timer\n",
    "from mindstorms.operator import greater_than, greater_than_or_equal_to, less_than, less_than_or_equal_to, equal_to, not_equal_to\n",
    "import math"
   ]
  },
  {
   "cell_type": "markdown",
   "metadata": {},
   "source": [
    "# Initialization."
   ]
  },
  {
   "cell_type": "code",
   "execution_count": null,
   "metadata": {},
   "outputs": [],
   "source": [
    "hub = MSHub()\n",
    "app = App()"
   ]
  },
  {
   "cell_type": "markdown",
   "metadata": {},
   "source": [
    "# Set color of center button"
   ]
  },
  {
   "cell_type": "code",
   "execution_count": null,
   "metadata": {},
   "outputs": [],
   "source": [
    "button_color = 'black'\n",
    "print(\"Turning color of center button to \" + button_color + \"...\")\n",
    "hub.status_light.on(button_color)\n",
    "print(\"DONE!\")"
   ]
  },
  {
   "cell_type": "markdown",
   "metadata": {},
   "source": [
    "# Show animation (i.e., image) in hub."
   ]
  },
  {
   "cell_type": "code",
   "execution_count": null,
   "metadata": {},
   "outputs": [],
   "source": [
    "print(\"Displaying first image...\")\n",
    "hub.light_matrix.show_image('HAPPY')\n",
    "print(\"DONE!\")"
   ]
  },
  {
   "cell_type": "markdown",
   "metadata": {},
   "source": [
    "\n",
    "# Control motors\n",
    "We could initialize and control the motors individually.\n",
    "However, it can be very practical to pair them, which can be done as follows."
   ]
  },
  {
   "cell_type": "code",
   "execution_count": null,
   "metadata": {},
   "outputs": [],
   "source": [
    "# Initialize motors.\n",
    "print(\"Initializing motors...\")\n",
    "motor_pair = MotorPair('A', 'E')\n",
    "print(\"DONE!\")\n",
    "\n",
    "# Set default speed.\n",
    "speed = 80\n",
    "print(\"Setting default speed to \" + str(speed) + \"...\")\n",
    "motor_pair.set_default_speed(speed)\n",
    "print(\"DONE!\")\n",
    "\n",
    "# Move the motors.\n",
    "amount = 40\n",
    "\n",
    "# With steering, we can make the robot turn right (100), \n",
    "# turn left (-100) or go straight (0)\n",
    "steering = 100\n",
    "\n",
    "print(\"Moving the motors by \" + str(amount) + \" cm and steering of \" + str(steering) + \"...\")\n",
    "motor_pair.move(amount, unit='cm', steering=steering)\n",
    "print(\"DONE!\")"
   ]
  },
  {
   "cell_type": "markdown",
   "metadata": {},
   "source": [
    "# Show animation (i.e., image) in hub."
   ]
  },
  {
   "cell_type": "code",
   "execution_count": null,
   "metadata": {},
   "outputs": [],
   "source": [
    "print(\"Displaying last image...\")\n",
    "hub.light_matrix.show_image('CONFUSED')\n",
    "print(\"DONE!\")"
   ]
  },
  {
   "cell_type": "markdown",
   "metadata": {},
   "source": [
    "# Play sound"
   ]
  },
  {
   "cell_type": "code",
   "execution_count": null,
   "metadata": {},
   "outputs": [],
   "source": [
    "sound = 'Wobble'\n",
    "volume = 75\n",
    "\n",
    "print(\"Playing sound '\" + sound + \"' with volume \" + str(volume) + \"...\")\n",
    "app.play_sound(sound, volume)\n",
    "print(\"DONE!\")"
   ]
  }
 ],
 "metadata": {
  "jupytext": {
   "formats": "ipynb,py:percent"
  },
  "kernelspec": {
   "display_name": "Python 3",
   "language": "python",
   "name": "python3"
  },
  "language_info": {
   "codemirror_mode": {
    "name": "ipython",
    "version": 3
   },
   "file_extension": ".py",
   "mimetype": "text/x-python",
   "name": "python",
   "nbconvert_exporter": "python",
   "pygments_lexer": "ipython3",
   "version": "3.8.5"
  }
 },
 "nbformat": 4,
 "nbformat_minor": 4
}
